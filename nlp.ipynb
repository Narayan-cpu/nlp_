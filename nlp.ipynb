{
  "nbformat": 4,
  "nbformat_minor": 0,
  "metadata": {
    "colab": {
      "provenance": []
    },
    "kernelspec": {
      "name": "python3",
      "display_name": "Python 3"
    },
    "language_info": {
      "name": "python"
    }
  },
  "cells": [
    {
      "cell_type": "code",
      "execution_count": 3,
      "metadata": {
        "colab": {
          "base_uri": "https://localhost:8080/"
        },
        "id": "n4ROVgWuduIw",
        "outputId": "8561fd56-70fc-4e27-e33b-32f7c3df10fb"
      },
      "outputs": [
        {
          "output_type": "stream",
          "name": "stdout",
          "text": [
            "Requirement already satisfied: nltk in /usr/local/lib/python3.11/dist-packages (3.9.1)\n",
            "Requirement already satisfied: click in /usr/local/lib/python3.11/dist-packages (from nltk) (8.2.0)\n",
            "Requirement already satisfied: joblib in /usr/local/lib/python3.11/dist-packages (from nltk) (1.5.0)\n",
            "Requirement already satisfied: regex>=2021.8.3 in /usr/local/lib/python3.11/dist-packages (from nltk) (2024.11.6)\n",
            "Requirement already satisfied: tqdm in /usr/local/lib/python3.11/dist-packages (from nltk) (4.67.1)\n"
          ]
        }
      ],
      "source": [
        "!pip install nltk\n",
        "import nltk"
      ]
    },
    {
      "cell_type": "code",
      "source": [
        "nltk.download('punkt_tab')"
      ],
      "metadata": {
        "colab": {
          "base_uri": "https://localhost:8080/"
        },
        "id": "aRhHM_kCluHv",
        "outputId": "4d9662d6-1520-460c-8d84-d30838465bc7"
      },
      "execution_count": 4,
      "outputs": [
        {
          "output_type": "stream",
          "name": "stderr",
          "text": [
            "[nltk_data] Downloading package punkt_tab to /root/nltk_data...\n",
            "[nltk_data]   Package punkt_tab is already up-to-date!\n"
          ]
        },
        {
          "output_type": "execute_result",
          "data": {
            "text/plain": [
              "True"
            ]
          },
          "metadata": {},
          "execution_count": 4
        }
      ]
    },
    {
      "cell_type": "code",
      "source": [
        "corpus=\"\"\"Hello guys I am Terex taxer from India.\n",
        "I am made a Dosa yesterday and It is so healthy Snack.\n",
        "I am very happy to be here,and love india so much.\"\"\""
      ],
      "metadata": {
        "id": "hQifJpKdj0Va"
      },
      "execution_count": 5,
      "outputs": []
    },
    {
      "cell_type": "code",
      "source": [],
      "metadata": {
        "id": "fXo95Wb4lPNx"
      },
      "execution_count": 5,
      "outputs": []
    },
    {
      "cell_type": "code",
      "source": [
        "print(corpus)"
      ],
      "metadata": {
        "colab": {
          "base_uri": "https://localhost:8080/"
        },
        "id": "pWWyQDEVknAm",
        "outputId": "ed4b1dd4-c33f-40b7-8a66-87737df902a6"
      },
      "execution_count": 6,
      "outputs": [
        {
          "output_type": "stream",
          "name": "stdout",
          "text": [
            "Hello guys I am Terex taxer from India.\n",
            "I am made a Dosa yesterday and It is so healthy Snack.\n",
            "I am very happy to be here,and love india so much.\n"
          ]
        }
      ]
    },
    {
      "cell_type": "code",
      "source": [
        "#Tokanization"
      ],
      "metadata": {
        "id": "11mZyc-ckoqe"
      },
      "execution_count": 7,
      "outputs": []
    },
    {
      "cell_type": "code",
      "source": [
        "from nltk.tokenize import sent_tokenize"
      ],
      "metadata": {
        "id": "r6eom5-uksih"
      },
      "execution_count": 8,
      "outputs": []
    },
    {
      "cell_type": "code",
      "source": [
        "document=sent_tokenize(corpus)"
      ],
      "metadata": {
        "id": "8ZcgsMQMlGJv"
      },
      "execution_count": 9,
      "outputs": []
    },
    {
      "cell_type": "code",
      "source": [
        "type(document)"
      ],
      "metadata": {
        "colab": {
          "base_uri": "https://localhost:8080/"
        },
        "id": "dRouiAKJlJt-",
        "outputId": "5e1705f8-0b38-43b5-95ca-134b15596434"
      },
      "execution_count": 10,
      "outputs": [
        {
          "output_type": "execute_result",
          "data": {
            "text/plain": [
              "list"
            ]
          },
          "metadata": {},
          "execution_count": 10
        }
      ]
    },
    {
      "cell_type": "code",
      "source": [
        "for sentense in document:\n",
        "  print(sentense)"
      ],
      "metadata": {
        "colab": {
          "base_uri": "https://localhost:8080/"
        },
        "id": "W4E04WGnzPh-",
        "outputId": "520b55c2-30a5-49b3-f4b6-f342aaf9609b"
      },
      "execution_count": 11,
      "outputs": [
        {
          "output_type": "stream",
          "name": "stdout",
          "text": [
            "Hello guys I am Terex taxer from India.\n",
            "I am made a Dosa yesterday and It is so healthy Snack.\n",
            "I am very happy to be here,and love india so much.\n"
          ]
        }
      ]
    },
    {
      "cell_type": "code",
      "source": [
        "from nltk.tokenize import word_tokenize"
      ],
      "metadata": {
        "id": "D0RYzyYrzSAQ"
      },
      "execution_count": 12,
      "outputs": []
    },
    {
      "cell_type": "code",
      "source": [
        "words=word_tokenize(corpus)"
      ],
      "metadata": {
        "id": "PpG3XSt7znoX"
      },
      "execution_count": 13,
      "outputs": []
    },
    {
      "cell_type": "code",
      "source": [
        "words"
      ],
      "metadata": {
        "colab": {
          "base_uri": "https://localhost:8080/"
        },
        "id": "Loy81_tCzqBY",
        "outputId": "0311e462-4fa3-403d-f14b-c02117b62270"
      },
      "execution_count": 14,
      "outputs": [
        {
          "output_type": "execute_result",
          "data": {
            "text/plain": [
              "['Hello',\n",
              " 'guys',\n",
              " 'I',\n",
              " 'am',\n",
              " 'Terex',\n",
              " 'taxer',\n",
              " 'from',\n",
              " 'India',\n",
              " '.',\n",
              " 'I',\n",
              " 'am',\n",
              " 'made',\n",
              " 'a',\n",
              " 'Dosa',\n",
              " 'yesterday',\n",
              " 'and',\n",
              " 'It',\n",
              " 'is',\n",
              " 'so',\n",
              " 'healthy',\n",
              " 'Snack',\n",
              " '.',\n",
              " 'I',\n",
              " 'am',\n",
              " 'very',\n",
              " 'happy',\n",
              " 'to',\n",
              " 'be',\n",
              " 'here',\n",
              " ',',\n",
              " 'and',\n",
              " 'love',\n",
              " 'india',\n",
              " 'so',\n",
              " 'much',\n",
              " '.']"
            ]
          },
          "metadata": {},
          "execution_count": 14
        }
      ]
    },
    {
      "cell_type": "code",
      "source": [
        "#Stemming"
      ],
      "metadata": {
        "id": "SWroe9Nlzqpp"
      },
      "execution_count": 15,
      "outputs": []
    },
    {
      "cell_type": "code",
      "source": [
        "words=[\"eating\",\"eaten\",\"eats\",\"writing\",\"writer\",\"writes\",\"hystore\",\"finalize\",\"finalising\",\"programs\",\"programming\"]"
      ],
      "metadata": {
        "id": "J4Yqj4Gl2UBB"
      },
      "execution_count": 16,
      "outputs": []
    },
    {
      "cell_type": "code",
      "source": [
        "from nltk.stem import PorterStemmer"
      ],
      "metadata": {
        "id": "KrVET-Xz2mKp"
      },
      "execution_count": 17,
      "outputs": []
    },
    {
      "cell_type": "code",
      "source": [
        "stemming=PorterStemmer()"
      ],
      "metadata": {
        "id": "yk-qa2us3W5q"
      },
      "execution_count": 18,
      "outputs": []
    },
    {
      "cell_type": "code",
      "source": [
        "for word in words:\n",
        "  print(word+\"--->\"+stemming.stem(word))"
      ],
      "metadata": {
        "colab": {
          "base_uri": "https://localhost:8080/"
        },
        "id": "JVBzsBjS3ZwX",
        "outputId": "c5220ad0-4b53-4ad9-b209-e8f77bbcd356"
      },
      "execution_count": 19,
      "outputs": [
        {
          "output_type": "stream",
          "name": "stdout",
          "text": [
            "eating--->eat\n",
            "eaten--->eaten\n",
            "eats--->eat\n",
            "writing--->write\n",
            "writer--->writer\n",
            "writes--->write\n",
            "hystore--->hystor\n",
            "finalize--->final\n",
            "finalising--->finalis\n",
            "programs--->program\n",
            "programming--->program\n"
          ]
        }
      ]
    },
    {
      "cell_type": "code",
      "source": [
        "from nltk.stem import RegexpStemmer\n",
        "regex=RegexpStemmer('ing$|e$|ed$|s$',min=4)"
      ],
      "metadata": {
        "id": "BRhCRrLr3g1z"
      },
      "execution_count": 20,
      "outputs": []
    },
    {
      "cell_type": "code",
      "source": [
        "regex.stem('eating')"
      ],
      "metadata": {
        "colab": {
          "base_uri": "https://localhost:8080/",
          "height": 35
        },
        "id": "HgL6G1pv5cje",
        "outputId": "e180fc3c-b940-4641-a749-2e9c0726ed12"
      },
      "execution_count": 21,
      "outputs": [
        {
          "output_type": "execute_result",
          "data": {
            "text/plain": [
              "'eat'"
            ],
            "application/vnd.google.colaboratory.intrinsic+json": {
              "type": "string"
            }
          },
          "metadata": {},
          "execution_count": 21
        }
      ]
    },
    {
      "cell_type": "code",
      "source": [
        "for word in words:\n",
        "  print(word+\"--->\"+regex.stem(word))"
      ],
      "metadata": {
        "colab": {
          "base_uri": "https://localhost:8080/"
        },
        "id": "s3NBTPd_5fM0",
        "outputId": "5054b488-1b38-493b-add4-eefc8e808e27"
      },
      "execution_count": 22,
      "outputs": [
        {
          "output_type": "stream",
          "name": "stdout",
          "text": [
            "eating--->eat\n",
            "eaten--->eaten\n",
            "eats--->eat\n",
            "writing--->writ\n",
            "writer--->writer\n",
            "writes--->write\n",
            "hystore--->hystor\n",
            "finalize--->finaliz\n",
            "finalising--->finalis\n",
            "programs--->program\n",
            "programming--->programm\n"
          ]
        }
      ]
    },
    {
      "cell_type": "code",
      "source": [
        "from nltk.stem import SnowballStemmer\n",
        "snowball=SnowballStemmer(language='english')"
      ],
      "metadata": {
        "id": "jUV_p6g45kpN"
      },
      "execution_count": 23,
      "outputs": []
    },
    {
      "cell_type": "code",
      "source": [
        "for word in words:\n",
        "  print(word+\"--->\"+snowball.stem(word))"
      ],
      "metadata": {
        "colab": {
          "base_uri": "https://localhost:8080/"
        },
        "id": "pwKxTibX6isF",
        "outputId": "786f691e-0001-44a9-cbf2-45fe68a6b18c"
      },
      "execution_count": 24,
      "outputs": [
        {
          "output_type": "stream",
          "name": "stdout",
          "text": [
            "eating--->eat\n",
            "eaten--->eaten\n",
            "eats--->eat\n",
            "writing--->write\n",
            "writer--->writer\n",
            "writes--->write\n",
            "hystore--->hystor\n",
            "finalize--->final\n",
            "finalising--->finalis\n",
            "programs--->program\n",
            "programming--->program\n"
          ]
        }
      ]
    },
    {
      "cell_type": "code",
      "source": [
        "#Lemmatization"
      ],
      "metadata": {
        "id": "Xt0YavUO_cgn"
      },
      "execution_count": 25,
      "outputs": []
    },
    {
      "cell_type": "code",
      "source": [
        "from nltk.stem import WordNetLemmatizer\n",
        "lemat=WordNetLemmatizer()"
      ],
      "metadata": {
        "id": "lcoyLT1y6nRX"
      },
      "execution_count": 26,
      "outputs": []
    },
    {
      "cell_type": "code",
      "source": [
        "nltk.download('wordnet')"
      ],
      "metadata": {
        "colab": {
          "base_uri": "https://localhost:8080/"
        },
        "id": "RmhpEaSC_RgX",
        "outputId": "6bfbf3aa-b34c-4e79-b846-813445438f5e"
      },
      "execution_count": 27,
      "outputs": [
        {
          "output_type": "stream",
          "name": "stderr",
          "text": [
            "[nltk_data] Downloading package wordnet to /root/nltk_data...\n",
            "[nltk_data]   Package wordnet is already up-to-date!\n"
          ]
        },
        {
          "output_type": "execute_result",
          "data": {
            "text/plain": [
              "True"
            ]
          },
          "metadata": {},
          "execution_count": 27
        }
      ]
    },
    {
      "cell_type": "code",
      "source": [
        "lemat.lemmatize('eating',pos=\"v\")"
      ],
      "metadata": {
        "colab": {
          "base_uri": "https://localhost:8080/",
          "height": 35
        },
        "id": "EeO38isb_BjO",
        "outputId": "c4c333e6-c355-4b58-a351-c2fccad8b777"
      },
      "execution_count": 28,
      "outputs": [
        {
          "output_type": "execute_result",
          "data": {
            "text/plain": [
              "'eat'"
            ],
            "application/vnd.google.colaboratory.intrinsic+json": {
              "type": "string"
            }
          },
          "metadata": {},
          "execution_count": 28
        }
      ]
    },
    {
      "cell_type": "code",
      "source": [
        "for word in words:\n",
        "  print(word+\"--->\"+lemat.lemmatize(word,pos=\"v\"))"
      ],
      "metadata": {
        "colab": {
          "base_uri": "https://localhost:8080/"
        },
        "id": "2A7pMBSF_O1s",
        "outputId": "dc05ffa9-27e1-49a6-8b81-a877d3d84ebe"
      },
      "execution_count": 29,
      "outputs": [
        {
          "output_type": "stream",
          "name": "stdout",
          "text": [
            "eating--->eat\n",
            "eaten--->eat\n",
            "eats--->eat\n",
            "writing--->write\n",
            "writer--->writer\n",
            "writes--->write\n",
            "hystore--->hystore\n",
            "finalize--->finalize\n",
            "finalising--->finalise\n",
            "programs--->program\n",
            "programming--->program\n"
          ]
        }
      ]
    },
    {
      "cell_type": "code",
      "source": [
        "#Stop Words"
      ],
      "metadata": {
        "id": "L612KEz6_Wpq"
      },
      "execution_count": 30,
      "outputs": []
    },
    {
      "cell_type": "code",
      "source": [
        "paragraph=\"\"\"I have three visions for India. In the past 3000 years of our history, India has faced countless invasions. Foreign rulers came, conquered our lands, looted our wealth, and tried to suppress our spirit. Despite this, India has never invaded any other country. We never tried to dominate others or impose our culture or beliefs on anyone else. Why is this? It is because India has always believed in the value of freedom, not just for ourselves, but for all humanity. That is why my first vision is of freedom. It is this sense of independence and dignity that our ancestors fought for, especially during the freedom movement that began in 1857 and culminated in 1947. Freedom is the foundation of all growth and pride, and we must cherish and protect it at all costs. My second vision is of development. For more than seventy years since independence, India has been seen as a developing nation. Despite our rich natural and human resources, we have doubted our potential. But I believe it is time for us to shed this tag and embrace our destiny as a developed nation. India is progressing in fields such as science, technology, space research, agriculture, and industry. We are one of the top economies of the world, and our youth are achieving great success globally. However, development must not be just about economic growth — it should also reflect in quality education, healthcare, innovation, and inclusive progress for every Indian. My third vision is that India must stand up to the world. The world respects only those who are strong — economically, militarily, and spiritually. Being a peace-loving nation does not mean we should be weak or submissive. It is high time India displayed its strength, stood up with confidence, and claimed its rightful place on the global stage. We must believe in ourselves and our capabilities. If we want the world to respect us, we must first respect ourselves, work with unity, and aim high. These three visions — freedom, development, and strength — are not just dreams. They are my hopes and expectations from every Indian, especially the youth. If we commit ourselves to these ideals, no force on earth can stop India from becoming a great, prosperous, and peaceful nation.\"\"\""
      ],
      "metadata": {
        "id": "8xcDOLeX_pH5"
      },
      "execution_count": 31,
      "outputs": []
    },
    {
      "cell_type": "code",
      "source": [
        "paragraph"
      ],
      "metadata": {
        "colab": {
          "base_uri": "https://localhost:8080/",
          "height": 226
        },
        "id": "WqaNkkY5_wMV",
        "outputId": "47545f56-1e10-4401-9b98-b345885b532c"
      },
      "execution_count": 32,
      "outputs": [
        {
          "output_type": "execute_result",
          "data": {
            "text/plain": [
              "'I have three visions for India. In the past 3000 years of our history, India has faced countless invasions. Foreign rulers came, conquered our lands, looted our wealth, and tried to suppress our spirit. Despite this, India has never invaded any other country. We never tried to dominate others or impose our culture or beliefs on anyone else. Why is this? It is because India has always believed in the value of freedom, not just for ourselves, but for all humanity. That is why my first vision is of freedom. It is this sense of independence and dignity that our ancestors fought for, especially during the freedom movement that began in 1857 and culminated in 1947. Freedom is the foundation of all growth and pride, and we must cherish and protect it at all costs. My second vision is of development. For more than seventy years since independence, India has been seen as a developing nation. Despite our rich natural and human resources, we have doubted our potential. But I believe it is time for us to shed this tag and embrace our destiny as a developed nation. India is progressing in fields such as science, technology, space research, agriculture, and industry. We are one of the top economies of the world, and our youth are achieving great success globally. However, development must not be just about economic growth — it should also reflect in quality education, healthcare, innovation, and inclusive progress for every Indian. My third vision is that India must stand up to the world. The world respects only those who are strong — economically, militarily, and spiritually. Being a peace-loving nation does not mean we should be weak or submissive. It is high time India displayed its strength, stood up with confidence, and claimed its rightful place on the global stage. We must believe in ourselves and our capabilities. If we want the world to respect us, we must first respect ourselves, work with unity, and aim high. These three visions — freedom, development, and strength — are not just dreams. They are my hopes and expectations from every Indian, especially the youth. If we commit ourselves to these ideals, no force on earth can stop India from becoming a great, prosperous, and peaceful nation.'"
            ],
            "application/vnd.google.colaboratory.intrinsic+json": {
              "type": "string"
            }
          },
          "metadata": {},
          "execution_count": 32
        }
      ]
    },
    {
      "cell_type": "code",
      "source": [
        "from nltk.stem import PorterStemmer\n",
        "from nltk.corpus import stopwords"
      ],
      "metadata": {
        "id": "ZRl7Tjmf_xpm"
      },
      "execution_count": 33,
      "outputs": []
    },
    {
      "cell_type": "code",
      "source": [
        "import nltk\n",
        "nltk.download('stopwords')"
      ],
      "metadata": {
        "colab": {
          "base_uri": "https://localhost:8080/"
        },
        "id": "NGEWLzNNFQAQ",
        "outputId": "1ba2be5a-c7e1-4292-f454-1136cbb17464"
      },
      "execution_count": 34,
      "outputs": [
        {
          "output_type": "stream",
          "name": "stderr",
          "text": [
            "[nltk_data] Downloading package stopwords to /root/nltk_data...\n",
            "[nltk_data]   Package stopwords is already up-to-date!\n"
          ]
        },
        {
          "output_type": "execute_result",
          "data": {
            "text/plain": [
              "True"
            ]
          },
          "metadata": {},
          "execution_count": 34
        }
      ]
    },
    {
      "cell_type": "code",
      "source": [
        "stopwords.words('english')"
      ],
      "metadata": {
        "colab": {
          "base_uri": "https://localhost:8080/"
        },
        "id": "AZk56KBFFUuu",
        "outputId": "85869340-2003-43da-f4d2-87c77232c31a"
      },
      "execution_count": 35,
      "outputs": [
        {
          "output_type": "execute_result",
          "data": {
            "text/plain": [
              "['a',\n",
              " 'about',\n",
              " 'above',\n",
              " 'after',\n",
              " 'again',\n",
              " 'against',\n",
              " 'ain',\n",
              " 'all',\n",
              " 'am',\n",
              " 'an',\n",
              " 'and',\n",
              " 'any',\n",
              " 'are',\n",
              " 'aren',\n",
              " \"aren't\",\n",
              " 'as',\n",
              " 'at',\n",
              " 'be',\n",
              " 'because',\n",
              " 'been',\n",
              " 'before',\n",
              " 'being',\n",
              " 'below',\n",
              " 'between',\n",
              " 'both',\n",
              " 'but',\n",
              " 'by',\n",
              " 'can',\n",
              " 'couldn',\n",
              " \"couldn't\",\n",
              " 'd',\n",
              " 'did',\n",
              " 'didn',\n",
              " \"didn't\",\n",
              " 'do',\n",
              " 'does',\n",
              " 'doesn',\n",
              " \"doesn't\",\n",
              " 'doing',\n",
              " 'don',\n",
              " \"don't\",\n",
              " 'down',\n",
              " 'during',\n",
              " 'each',\n",
              " 'few',\n",
              " 'for',\n",
              " 'from',\n",
              " 'further',\n",
              " 'had',\n",
              " 'hadn',\n",
              " \"hadn't\",\n",
              " 'has',\n",
              " 'hasn',\n",
              " \"hasn't\",\n",
              " 'have',\n",
              " 'haven',\n",
              " \"haven't\",\n",
              " 'having',\n",
              " 'he',\n",
              " \"he'd\",\n",
              " \"he'll\",\n",
              " 'her',\n",
              " 'here',\n",
              " 'hers',\n",
              " 'herself',\n",
              " \"he's\",\n",
              " 'him',\n",
              " 'himself',\n",
              " 'his',\n",
              " 'how',\n",
              " 'i',\n",
              " \"i'd\",\n",
              " 'if',\n",
              " \"i'll\",\n",
              " \"i'm\",\n",
              " 'in',\n",
              " 'into',\n",
              " 'is',\n",
              " 'isn',\n",
              " \"isn't\",\n",
              " 'it',\n",
              " \"it'd\",\n",
              " \"it'll\",\n",
              " \"it's\",\n",
              " 'its',\n",
              " 'itself',\n",
              " \"i've\",\n",
              " 'just',\n",
              " 'll',\n",
              " 'm',\n",
              " 'ma',\n",
              " 'me',\n",
              " 'mightn',\n",
              " \"mightn't\",\n",
              " 'more',\n",
              " 'most',\n",
              " 'mustn',\n",
              " \"mustn't\",\n",
              " 'my',\n",
              " 'myself',\n",
              " 'needn',\n",
              " \"needn't\",\n",
              " 'no',\n",
              " 'nor',\n",
              " 'not',\n",
              " 'now',\n",
              " 'o',\n",
              " 'of',\n",
              " 'off',\n",
              " 'on',\n",
              " 'once',\n",
              " 'only',\n",
              " 'or',\n",
              " 'other',\n",
              " 'our',\n",
              " 'ours',\n",
              " 'ourselves',\n",
              " 'out',\n",
              " 'over',\n",
              " 'own',\n",
              " 're',\n",
              " 's',\n",
              " 'same',\n",
              " 'shan',\n",
              " \"shan't\",\n",
              " 'she',\n",
              " \"she'd\",\n",
              " \"she'll\",\n",
              " \"she's\",\n",
              " 'should',\n",
              " 'shouldn',\n",
              " \"shouldn't\",\n",
              " \"should've\",\n",
              " 'so',\n",
              " 'some',\n",
              " 'such',\n",
              " 't',\n",
              " 'than',\n",
              " 'that',\n",
              " \"that'll\",\n",
              " 'the',\n",
              " 'their',\n",
              " 'theirs',\n",
              " 'them',\n",
              " 'themselves',\n",
              " 'then',\n",
              " 'there',\n",
              " 'these',\n",
              " 'they',\n",
              " \"they'd\",\n",
              " \"they'll\",\n",
              " \"they're\",\n",
              " \"they've\",\n",
              " 'this',\n",
              " 'those',\n",
              " 'through',\n",
              " 'to',\n",
              " 'too',\n",
              " 'under',\n",
              " 'until',\n",
              " 'up',\n",
              " 've',\n",
              " 'very',\n",
              " 'was',\n",
              " 'wasn',\n",
              " \"wasn't\",\n",
              " 'we',\n",
              " \"we'd\",\n",
              " \"we'll\",\n",
              " \"we're\",\n",
              " 'were',\n",
              " 'weren',\n",
              " \"weren't\",\n",
              " \"we've\",\n",
              " 'what',\n",
              " 'when',\n",
              " 'where',\n",
              " 'which',\n",
              " 'while',\n",
              " 'who',\n",
              " 'whom',\n",
              " 'why',\n",
              " 'will',\n",
              " 'with',\n",
              " 'won',\n",
              " \"won't\",\n",
              " 'wouldn',\n",
              " \"wouldn't\",\n",
              " 'y',\n",
              " 'you',\n",
              " \"you'd\",\n",
              " \"you'll\",\n",
              " 'your',\n",
              " \"you're\",\n",
              " 'yours',\n",
              " 'yourself',\n",
              " 'yourselves',\n",
              " \"you've\"]"
            ]
          },
          "metadata": {},
          "execution_count": 35
        }
      ]
    },
    {
      "cell_type": "code",
      "source": [
        "stopwords.words('german')"
      ],
      "metadata": {
        "colab": {
          "base_uri": "https://localhost:8080/"
        },
        "id": "zM4T78Q9FpbY",
        "outputId": "442b9082-333a-474a-f5e7-1052f8d33919"
      },
      "execution_count": 36,
      "outputs": [
        {
          "output_type": "execute_result",
          "data": {
            "text/plain": [
              "['aber',\n",
              " 'alle',\n",
              " 'allem',\n",
              " 'allen',\n",
              " 'aller',\n",
              " 'alles',\n",
              " 'als',\n",
              " 'also',\n",
              " 'am',\n",
              " 'an',\n",
              " 'ander',\n",
              " 'andere',\n",
              " 'anderem',\n",
              " 'anderen',\n",
              " 'anderer',\n",
              " 'anderes',\n",
              " 'anderm',\n",
              " 'andern',\n",
              " 'anderr',\n",
              " 'anders',\n",
              " 'auch',\n",
              " 'auf',\n",
              " 'aus',\n",
              " 'bei',\n",
              " 'bin',\n",
              " 'bis',\n",
              " 'bist',\n",
              " 'da',\n",
              " 'damit',\n",
              " 'dann',\n",
              " 'der',\n",
              " 'den',\n",
              " 'des',\n",
              " 'dem',\n",
              " 'die',\n",
              " 'das',\n",
              " 'dass',\n",
              " 'daß',\n",
              " 'derselbe',\n",
              " 'derselben',\n",
              " 'denselben',\n",
              " 'desselben',\n",
              " 'demselben',\n",
              " 'dieselbe',\n",
              " 'dieselben',\n",
              " 'dasselbe',\n",
              " 'dazu',\n",
              " 'dein',\n",
              " 'deine',\n",
              " 'deinem',\n",
              " 'deinen',\n",
              " 'deiner',\n",
              " 'deines',\n",
              " 'denn',\n",
              " 'derer',\n",
              " 'dessen',\n",
              " 'dich',\n",
              " 'dir',\n",
              " 'du',\n",
              " 'dies',\n",
              " 'diese',\n",
              " 'diesem',\n",
              " 'diesen',\n",
              " 'dieser',\n",
              " 'dieses',\n",
              " 'doch',\n",
              " 'dort',\n",
              " 'durch',\n",
              " 'ein',\n",
              " 'eine',\n",
              " 'einem',\n",
              " 'einen',\n",
              " 'einer',\n",
              " 'eines',\n",
              " 'einig',\n",
              " 'einige',\n",
              " 'einigem',\n",
              " 'einigen',\n",
              " 'einiger',\n",
              " 'einiges',\n",
              " 'einmal',\n",
              " 'er',\n",
              " 'ihn',\n",
              " 'ihm',\n",
              " 'es',\n",
              " 'etwas',\n",
              " 'euer',\n",
              " 'eure',\n",
              " 'eurem',\n",
              " 'euren',\n",
              " 'eurer',\n",
              " 'eures',\n",
              " 'für',\n",
              " 'gegen',\n",
              " 'gewesen',\n",
              " 'hab',\n",
              " 'habe',\n",
              " 'haben',\n",
              " 'hat',\n",
              " 'hatte',\n",
              " 'hatten',\n",
              " 'hier',\n",
              " 'hin',\n",
              " 'hinter',\n",
              " 'ich',\n",
              " 'mich',\n",
              " 'mir',\n",
              " 'ihr',\n",
              " 'ihre',\n",
              " 'ihrem',\n",
              " 'ihren',\n",
              " 'ihrer',\n",
              " 'ihres',\n",
              " 'euch',\n",
              " 'im',\n",
              " 'in',\n",
              " 'indem',\n",
              " 'ins',\n",
              " 'ist',\n",
              " 'jede',\n",
              " 'jedem',\n",
              " 'jeden',\n",
              " 'jeder',\n",
              " 'jedes',\n",
              " 'jene',\n",
              " 'jenem',\n",
              " 'jenen',\n",
              " 'jener',\n",
              " 'jenes',\n",
              " 'jetzt',\n",
              " 'kann',\n",
              " 'kein',\n",
              " 'keine',\n",
              " 'keinem',\n",
              " 'keinen',\n",
              " 'keiner',\n",
              " 'keines',\n",
              " 'können',\n",
              " 'könnte',\n",
              " 'machen',\n",
              " 'man',\n",
              " 'manche',\n",
              " 'manchem',\n",
              " 'manchen',\n",
              " 'mancher',\n",
              " 'manches',\n",
              " 'mein',\n",
              " 'meine',\n",
              " 'meinem',\n",
              " 'meinen',\n",
              " 'meiner',\n",
              " 'meines',\n",
              " 'mit',\n",
              " 'muss',\n",
              " 'musste',\n",
              " 'nach',\n",
              " 'nicht',\n",
              " 'nichts',\n",
              " 'noch',\n",
              " 'nun',\n",
              " 'nur',\n",
              " 'ob',\n",
              " 'oder',\n",
              " 'ohne',\n",
              " 'sehr',\n",
              " 'sein',\n",
              " 'seine',\n",
              " 'seinem',\n",
              " 'seinen',\n",
              " 'seiner',\n",
              " 'seines',\n",
              " 'selbst',\n",
              " 'sich',\n",
              " 'sie',\n",
              " 'ihnen',\n",
              " 'sind',\n",
              " 'so',\n",
              " 'solche',\n",
              " 'solchem',\n",
              " 'solchen',\n",
              " 'solcher',\n",
              " 'solches',\n",
              " 'soll',\n",
              " 'sollte',\n",
              " 'sondern',\n",
              " 'sonst',\n",
              " 'über',\n",
              " 'um',\n",
              " 'und',\n",
              " 'uns',\n",
              " 'unsere',\n",
              " 'unserem',\n",
              " 'unseren',\n",
              " 'unser',\n",
              " 'unseres',\n",
              " 'unter',\n",
              " 'viel',\n",
              " 'vom',\n",
              " 'von',\n",
              " 'vor',\n",
              " 'während',\n",
              " 'war',\n",
              " 'waren',\n",
              " 'warst',\n",
              " 'was',\n",
              " 'weg',\n",
              " 'weil',\n",
              " 'weiter',\n",
              " 'welche',\n",
              " 'welchem',\n",
              " 'welchen',\n",
              " 'welcher',\n",
              " 'welches',\n",
              " 'wenn',\n",
              " 'werde',\n",
              " 'werden',\n",
              " 'wie',\n",
              " 'wieder',\n",
              " 'will',\n",
              " 'wir',\n",
              " 'wird',\n",
              " 'wirst',\n",
              " 'wo',\n",
              " 'wollen',\n",
              " 'wollte',\n",
              " 'würde',\n",
              " 'würden',\n",
              " 'zu',\n",
              " 'zum',\n",
              " 'zur',\n",
              " 'zwar',\n",
              " 'zwischen']"
            ]
          },
          "metadata": {},
          "execution_count": 36
        }
      ]
    },
    {
      "cell_type": "code",
      "source": [
        "stemmer=PorterStemmer()"
      ],
      "metadata": {
        "id": "JYNErmRUF2H6"
      },
      "execution_count": 37,
      "outputs": []
    },
    {
      "cell_type": "code",
      "source": [
        "sentences=nltk.sent_tokenize(paragraph)"
      ],
      "metadata": {
        "id": "H3-4ZTb6GXAv"
      },
      "execution_count": 38,
      "outputs": []
    },
    {
      "cell_type": "code",
      "source": [
        "for i in range (len(sentences)):\n",
        "  word=nltk.word_tokenize(sentences[i])\n",
        "  newwords=[stemmer.stem(word) for word in word if word not in set(stopwords.words('english'))]\n",
        "  sentences[i]=' '.join(newwords)\n"
      ],
      "metadata": {
        "id": "pR_q5t76GbUx"
      },
      "execution_count": 39,
      "outputs": []
    },
    {
      "cell_type": "code",
      "source": [
        "sentences"
      ],
      "metadata": {
        "colab": {
          "base_uri": "https://localhost:8080/"
        },
        "id": "PdeBYsPDIpVM",
        "outputId": "e91f1463-9d61-4310-b68e-9d0a8b18e05f"
      },
      "execution_count": 40,
      "outputs": [
        {
          "output_type": "execute_result",
          "data": {
            "text/plain": [
              "['i three vision india .',\n",
              " 'in past 3000 year histori , india face countless invas .',\n",
              " 'foreign ruler came , conquer land , loot wealth , tri suppress spirit .',\n",
              " 'despit , india never invad countri .',\n",
              " 'we never tri domin other impos cultur belief anyon els .',\n",
              " 'whi ?',\n",
              " 'it india alway believ valu freedom , , human .',\n",
              " 'that first vision freedom .',\n",
              " 'it sens independ digniti ancestor fought , especi freedom movement began 1857 culmin 1947 .',\n",
              " 'freedom foundat growth pride , must cherish protect cost .',\n",
              " 'my second vision develop .',\n",
              " 'for seventi year sinc independ , india seen develop nation .',\n",
              " 'despit rich natur human resourc , doubt potenti .',\n",
              " 'but i believ time us shed tag embrac destini develop nation .',\n",
              " 'india progress field scienc , technolog , space research , agricultur , industri .',\n",
              " 'we one top economi world , youth achiev great success global .',\n",
              " 'howev , develop must econom growth — also reflect qualiti educ , healthcar , innov , inclus progress everi indian .',\n",
              " 'my third vision india must stand world .',\n",
              " 'the world respect strong — econom , militarili , spiritu .',\n",
              " 'be peace-lov nation mean weak submiss .',\n",
              " 'it high time india display strength , stood confid , claim right place global stage .',\n",
              " 'we must believ capabl .',\n",
              " 'if want world respect us , must first respect , work uniti , aim high .',\n",
              " 'these three vision — freedom , develop , strength — dream .',\n",
              " 'they hope expect everi indian , especi youth .',\n",
              " 'if commit ideal , forc earth stop india becom great , prosper , peac nation .']"
            ]
          },
          "metadata": {},
          "execution_count": 40
        }
      ]
    },
    {
      "cell_type": "code",
      "source": [
        "from nltk.stem import SnowballStemmer\n",
        "snowball=SnowballStemmer(language='english')"
      ],
      "metadata": {
        "id": "UiflwrgfI28Z"
      },
      "execution_count": 41,
      "outputs": []
    },
    {
      "cell_type": "code",
      "source": [
        "for i in range (len(sentences)):\n",
        "  word=nltk.word_tokenize(sentences[i])\n",
        "  newwords=[snowball.stem(word) for word in word if word not in set(stopwords.words('english'))]\n",
        "  sentences[i]=' '.join(newwords)"
      ],
      "metadata": {
        "id": "4U_Pm695JVtL"
      },
      "execution_count": 42,
      "outputs": []
    },
    {
      "cell_type": "code",
      "source": [
        "sentences"
      ],
      "metadata": {
        "colab": {
          "base_uri": "https://localhost:8080/"
        },
        "id": "JltWvFa2JieE",
        "outputId": "31f3dc47-24b1-4982-88d9-7e936a00b033"
      },
      "execution_count": 43,
      "outputs": [
        {
          "output_type": "execute_result",
          "data": {
            "text/plain": [
              "['three vision india .',\n",
              " 'past 3000 year histori , india face countless inva .',\n",
              " 'foreign ruler came , conquer land , loot wealth , tri suppress spirit .',\n",
              " 'despit , india never invad countri .',\n",
              " 'never tri domin impo cultur belief anyon el .',\n",
              " 'whi ?',\n",
              " 'india alway believ valu freedom , , human .',\n",
              " 'first vision freedom .',\n",
              " 'sen independ digniti ancestor fought , especi freedom movement began 1857 culmin 1947 .',\n",
              " 'freedom foundat growth pride , must cherish protect cost .',\n",
              " 'second vision develop .',\n",
              " 'seventi year sinc independ , india seen develop nation .',\n",
              " 'despit rich natur human resourc , doubt potenti .',\n",
              " 'believ time us shed tag embrac destini develop nation .',\n",
              " 'india progress field scienc , technolog , space research , agricultur , industri .',\n",
              " 'one top economi world , youth achiev great success global .',\n",
              " 'howev , develop must econom growth — also reflect qualiti educ , healthcar , innov , inclus progress everi indian .',\n",
              " 'third vision india must stand world .',\n",
              " 'world respect strong — econom , militarili , spiritu .',\n",
              " 'peace-lov nation mean weak submiss .',\n",
              " 'high time india display strength , stood confid , claim right place global stage .',\n",
              " 'must believ capabl .',\n",
              " 'want world respect us , must first respect , work uniti , aim high .',\n",
              " 'three vision — freedom , develop , strength — dream .',\n",
              " 'hope expect everi indian , especi youth .',\n",
              " 'commit ideal , forc earth stop india becom great , prosper , peac nation .']"
            ]
          },
          "metadata": {},
          "execution_count": 43
        }
      ]
    },
    {
      "cell_type": "code",
      "source": [
        "from nltk.stem import WordNetLemmatizer\n",
        "lemat=WordNetLemmatizer()"
      ],
      "metadata": {
        "id": "mRtj8SctJud1"
      },
      "execution_count": 44,
      "outputs": []
    },
    {
      "cell_type": "code",
      "source": [
        "for i in range (len(sentences)):\n",
        "  word=nltk.word_tokenize(sentences[i])\n",
        "  newwords=[lemat.lemmatize(word,pos='v') for word in word if word not in set(stopwords.words('english'))]\n",
        "  sentences[i]=' '.join(newwords)"
      ],
      "metadata": {
        "id": "dHFokYmEJ-8I"
      },
      "execution_count": 45,
      "outputs": []
    },
    {
      "cell_type": "code",
      "source": [
        "sentences"
      ],
      "metadata": {
        "colab": {
          "base_uri": "https://localhost:8080/"
        },
        "id": "YghgStshKDi8",
        "outputId": "0c285d96-b0b2-447a-c14c-e35013ed1932"
      },
      "execution_count": 46,
      "outputs": [
        {
          "output_type": "execute_result",
          "data": {
            "text/plain": [
              "['three vision india .',\n",
              " 'past 3000 year histori , india face countless inva .',\n",
              " 'foreign ruler come , conquer land , loot wealth , tri suppress spirit .',\n",
              " 'despit , india never invad countri .',\n",
              " 'never tri domin impo cultur belief anyon el .',\n",
              " 'whi ?',\n",
              " 'india alway believ valu freedom , , human .',\n",
              " 'first vision freedom .',\n",
              " 'sen independ digniti ancestor fight , especi freedom movement begin 1857 culmin 1947 .',\n",
              " 'freedom foundat growth pride , must cherish protect cost .',\n",
              " 'second vision develop .',\n",
              " 'seventi year sinc independ , india see develop nation .',\n",
              " 'despit rich natur human resourc , doubt potenti .',\n",
              " 'believ time us shed tag embrac destini develop nation .',\n",
              " 'india progress field scienc , technolog , space research , agricultur , industri .',\n",
              " 'one top economi world , youth achiev great success global .',\n",
              " 'howev , develop must econom growth — also reflect qualiti educ , healthcar , innov , inclus progress everi indian .',\n",
              " 'third vision india must stand world .',\n",
              " 'world respect strong — econom , militarili , spiritu .',\n",
              " 'peace-lov nation mean weak submiss .',\n",
              " 'high time india display strength , stand confid , claim right place global stage .',\n",
              " 'must believ capabl .',\n",
              " 'want world respect us , must first respect , work uniti , aim high .',\n",
              " 'three vision — freedom , develop , strength — dream .',\n",
              " 'hope expect everi indian , especi youth .',\n",
              " 'commit ideal , forc earth stop india becom great , prosper , peac nation .']"
            ]
          },
          "metadata": {},
          "execution_count": 46
        }
      ]
    },
    {
      "cell_type": "code",
      "source": [
        "paragraph=\"\"\"I have three visions for India. In the past 3000 years of our history, India has faced countless invasions. Foreign rulers came, conquered our lands, looted our wealth, and tried to suppress our spirit. Despite this, India has never invaded any other country. We never tried to dominate others or impose our culture or beliefs on anyone else. Why is this? It is because India has always believed in the value of freedom, not just for ourselves, but for all humanity. That is why my first vision is of freedom. It is this sense of independence and dignity that our ancestors fought for, especially during the freedom movement that began in 1857 and culminated in 1947. Freedom is the foundation of all growth and pride, and we must cherish and protect it at all costs. My second vision is of development. For more than seventy years since independence, India has been seen as a developing nation. Despite our rich natural and human resources, we have doubted our potential. But I believe it is time for us to shed this tag and embrace our destiny as a developed nation. India is progressing in fields such as science, technology, space research, agriculture, and industry. We are one of the top economies of the world, and our youth are achieving great success globally. However, development must not be just about economic growth — it should also reflect in quality education, healthcare, innovation, and inclusive progress for every Indian. My third vision is that India must stand up to the world. The world respects only those who are strong — economically, militarily, and spiritually. Being a peace-loving nation does not mean we should be weak or submissive. It is high time India displayed its strength, stood up with confidence, and claimed its rightful place on the global stage. We must believe in ourselves and our capabilities. If we want the world to respect us, we must first respect ourselves, work with unity, and aim high. These three visions — freedom, development, and strength — are not just dreams. They are my hopes and expectations from every Indian, especially the youth. If we commit ourselves to these ideals, no force on earth can stop India from becoming a great, prosperous, and peaceful nation.\"\"\""
      ],
      "metadata": {
        "id": "w08KGyygKEwB"
      },
      "execution_count": 47,
      "outputs": []
    },
    {
      "cell_type": "code",
      "source": [
        "paragraph"
      ],
      "metadata": {
        "colab": {
          "base_uri": "https://localhost:8080/",
          "height": 226
        },
        "id": "VvtudTpKa3tk",
        "outputId": "84905f74-f780-4031-979f-ca89ebe09450"
      },
      "execution_count": 48,
      "outputs": [
        {
          "output_type": "execute_result",
          "data": {
            "text/plain": [
              "'I have three visions for India. In the past 3000 years of our history, India has faced countless invasions. Foreign rulers came, conquered our lands, looted our wealth, and tried to suppress our spirit. Despite this, India has never invaded any other country. We never tried to dominate others or impose our culture or beliefs on anyone else. Why is this? It is because India has always believed in the value of freedom, not just for ourselves, but for all humanity. That is why my first vision is of freedom. It is this sense of independence and dignity that our ancestors fought for, especially during the freedom movement that began in 1857 and culminated in 1947. Freedom is the foundation of all growth and pride, and we must cherish and protect it at all costs. My second vision is of development. For more than seventy years since independence, India has been seen as a developing nation. Despite our rich natural and human resources, we have doubted our potential. But I believe it is time for us to shed this tag and embrace our destiny as a developed nation. India is progressing in fields such as science, technology, space research, agriculture, and industry. We are one of the top economies of the world, and our youth are achieving great success globally. However, development must not be just about economic growth — it should also reflect in quality education, healthcare, innovation, and inclusive progress for every Indian. My third vision is that India must stand up to the world. The world respects only those who are strong — economically, militarily, and spiritually. Being a peace-loving nation does not mean we should be weak or submissive. It is high time India displayed its strength, stood up with confidence, and claimed its rightful place on the global stage. We must believe in ourselves and our capabilities. If we want the world to respect us, we must first respect ourselves, work with unity, and aim high. These three visions — freedom, development, and strength — are not just dreams. They are my hopes and expectations from every Indian, especially the youth. If we commit ourselves to these ideals, no force on earth can stop India from becoming a great, prosperous, and peaceful nation.'"
            ],
            "application/vnd.google.colaboratory.intrinsic+json": {
              "type": "string"
            }
          },
          "metadata": {},
          "execution_count": 48
        }
      ]
    },
    {
      "cell_type": "code",
      "source": [
        "#Parts of Speech Tagging"
      ],
      "metadata": {
        "id": "s_jStlEZd3KA"
      },
      "execution_count": 49,
      "outputs": []
    },
    {
      "cell_type": "code",
      "source": [
        "import nltk\n",
        "nltk.download('averaged_perceptron_tagger_eng')"
      ],
      "metadata": {
        "colab": {
          "base_uri": "https://localhost:8080/"
        },
        "id": "u_CTPPpbfhD2",
        "outputId": "062cdc1e-63a6-4780-89f4-24ff2b50a936"
      },
      "execution_count": 50,
      "outputs": [
        {
          "output_type": "stream",
          "name": "stderr",
          "text": [
            "[nltk_data] Downloading package averaged_perceptron_tagger_eng to\n",
            "[nltk_data]     /root/nltk_data...\n",
            "[nltk_data]   Package averaged_perceptron_tagger_eng is already up-to-\n",
            "[nltk_data]       date!\n"
          ]
        },
        {
          "output_type": "execute_result",
          "data": {
            "text/plain": [
              "True"
            ]
          },
          "metadata": {},
          "execution_count": 50
        }
      ]
    },
    {
      "cell_type": "code",
      "source": [
        "for i in range (len(sentences)):\n",
        "  word=nltk.word_tokenize(sentences[i])\n",
        "  newwords=[word for word in word if word not in set(stopwords.words('english'))]\n",
        "  postag=nltk.pos_tag(word)\n",
        "  print(postag)"
      ],
      "metadata": {
        "colab": {
          "base_uri": "https://localhost:8080/"
        },
        "id": "gb_y1qt0fDJB",
        "outputId": "ca8a7f15-4fad-402a-afeb-61ca22c1d819"
      },
      "execution_count": 51,
      "outputs": [
        {
          "output_type": "stream",
          "name": "stdout",
          "text": [
            "[('three', 'CD'), ('vision', 'NN'), ('india', 'NN'), ('.', '.')]\n",
            "[('past', 'IN'), ('3000', 'CD'), ('year', 'NN'), ('histori', 'NN'), (',', ','), ('india', 'JJ'), ('face', 'NN'), ('countless', 'NN'), ('inva', 'NN'), ('.', '.')]\n",
            "[('foreign', 'JJ'), ('ruler', 'NN'), ('come', 'NN'), (',', ','), ('conquer', 'NN'), ('land', 'NN'), (',', ','), ('loot', 'JJ'), ('wealth', 'NN'), (',', ','), ('tri', 'JJ'), ('suppress', 'NN'), ('spirit', 'NN'), ('.', '.')]\n",
            "[('despit', 'NN'), (',', ','), ('india', 'VB'), ('never', 'RB'), ('invad', 'JJ'), ('countri', 'NN'), ('.', '.')]\n",
            "[('never', 'RB'), ('tri', 'NN'), ('domin', 'NN'), ('impo', 'NN'), ('cultur', 'NN'), ('belief', 'NN'), ('anyon', 'JJ'), ('el', 'NN'), ('.', '.')]\n",
            "[('whi', 'NN'), ('?', '.')]\n",
            "[('india', 'JJ'), ('alway', 'RB'), ('believ', 'JJ'), ('valu', 'NN'), ('freedom', 'NN'), (',', ','), (',', ','), ('human', 'JJ'), ('.', '.')]\n",
            "[('first', 'JJ'), ('vision', 'NN'), ('freedom', 'NN'), ('.', '.')]\n",
            "[('sen', 'JJ'), ('independ', 'NN'), ('digniti', 'NN'), ('ancestor', 'NN'), ('fight', 'NN'), (',', ','), ('especi', 'NN'), ('freedom', 'NN'), ('movement', 'NN'), ('begin', 'NN'), ('1857', 'CD'), ('culmin', 'NN'), ('1947', 'CD'), ('.', '.')]\n",
            "[('freedom', 'NN'), ('foundat', 'NN'), ('growth', 'NN'), ('pride', 'NN'), (',', ','), ('must', 'MD'), ('cherish', 'VB'), ('protect', 'NN'), ('cost', 'NN'), ('.', '.')]\n",
            "[('second', 'JJ'), ('vision', 'NN'), ('develop', 'NN'), ('.', '.')]\n",
            "[('seventi', 'JJ'), ('year', 'NN'), ('sinc', 'NN'), ('independ', 'NN'), (',', ','), ('india', 'JJ'), ('see', 'VBP'), ('develop', 'JJ'), ('nation', 'NN'), ('.', '.')]\n",
            "[('despit', 'NN'), ('rich', 'JJ'), ('natur', 'JJ'), ('human', 'JJ'), ('resourc', 'NN'), (',', ','), ('doubt', 'NN'), ('potenti', 'NN'), ('.', '.')]\n",
            "[('believ', 'NN'), ('time', 'NN'), ('us', 'PRP'), ('shed', 'VBD'), ('tag', 'NN'), ('embrac', 'NN'), ('destini', 'NN'), ('develop', 'VB'), ('nation', 'NN'), ('.', '.')]\n",
            "[('india', 'JJ'), ('progress', 'NN'), ('field', 'NN'), ('scienc', 'NN'), (',', ','), ('technolog', 'NN'), (',', ','), ('space', 'NN'), ('research', 'NN'), (',', ','), ('agricultur', 'NN'), (',', ','), ('industri', 'NN'), ('.', '.')]\n",
            "[('one', 'CD'), ('top', 'NN'), ('economi', 'NN'), ('world', 'NN'), (',', ','), ('youth', 'NN'), ('achiev', 'RB'), ('great', 'JJ'), ('success', 'NN'), ('global', 'JJ'), ('.', '.')]\n",
            "[('howev', 'NN'), (',', ','), ('develop', 'VB'), ('must', 'MD'), ('econom', 'VB'), ('growth', 'NN'), ('—', 'NNP'), ('also', 'RB'), ('reflect', 'VBP'), ('qualiti', 'JJ'), ('educ', 'NN'), (',', ','), ('healthcar', 'NN'), (',', ','), ('innov', 'NN'), (',', ','), ('inclus', 'JJ'), ('progress', 'NN'), ('everi', 'NN'), ('indian', 'NN'), ('.', '.')]\n",
            "[('third', 'JJ'), ('vision', 'NN'), ('india', 'NN'), ('must', 'MD'), ('stand', 'VB'), ('world', 'NN'), ('.', '.')]\n",
            "[('world', 'NN'), ('respect', 'NN'), ('strong', 'JJ'), ('—', 'NNP'), ('econom', 'NN'), (',', ','), ('militarili', 'NN'), (',', ','), ('spiritu', 'NN'), ('.', '.')]\n",
            "[('peace-lov', 'JJ'), ('nation', 'NN'), ('mean', 'NN'), ('weak', 'JJ'), ('submiss', 'NN'), ('.', '.')]\n",
            "[('high', 'JJ'), ('time', 'NN'), ('india', 'JJ'), ('display', 'NN'), ('strength', 'NN'), (',', ','), ('stand', 'VBP'), ('confid', 'NN'), (',', ','), ('claim', 'NN'), ('right', 'JJ'), ('place', 'NN'), ('global', 'JJ'), ('stage', 'NN'), ('.', '.')]\n",
            "[('must', 'MD'), ('believ', 'VB'), ('capabl', 'NN'), ('.', '.')]\n",
            "[('want', 'JJ'), ('world', 'NN'), ('respect', 'NN'), ('us', 'PRP'), (',', ','), ('must', 'MD'), ('first', 'VB'), ('respect', 'NN'), (',', ','), ('work', 'NN'), ('uniti', 'RB'), (',', ','), ('aim', 'RB'), ('high', 'JJ'), ('.', '.')]\n",
            "[('three', 'CD'), ('vision', 'NN'), ('—', 'NN'), ('freedom', 'NN'), (',', ','), ('develop', 'VB'), (',', ','), ('strength', 'NN'), ('—', 'NNP'), ('dream', 'NN'), ('.', '.')]\n",
            "[('hope', 'NN'), ('expect', 'VBP'), ('everi', 'NN'), ('indian', 'JJ'), (',', ','), ('especi', 'JJ'), ('youth', 'NN'), ('.', '.')]\n",
            "[('commit', 'NN'), ('ideal', 'NN'), (',', ','), ('forc', 'JJ'), ('earth', 'NN'), ('stop', 'VB'), ('india', 'NN'), ('becom', 'NN'), ('great', 'JJ'), (',', ','), ('prosper', 'NN'), (',', ','), ('peac', 'JJ'), ('nation', 'NN'), ('.', '.')]\n"
          ]
        }
      ]
    },
    {
      "cell_type": "markdown",
      "source": [],
      "metadata": {
        "id": "uDpBsJU-kvtq"
      }
    },
    {
      "cell_type": "code",
      "source": [
        "sentence = \"Hampi has a beautifull Monumants.\"\n",
        "tokens = nltk.word_tokenize(sentence)  # Tokenize the sentence into words\n",
        "pos_tags = nltk.pos_tag(tokens)  # Apply POS tagging to the tokenized words\n",
        "print(pos_tags)"
      ],
      "metadata": {
        "colab": {
          "base_uri": "https://localhost:8080/"
        },
        "id": "BVRcZaBgfeM2",
        "outputId": "a9ec383a-9a62-4228-c29f-9d8e97736ec8"
      },
      "execution_count": 52,
      "outputs": [
        {
          "output_type": "stream",
          "name": "stdout",
          "text": [
            "[('Hampi', 'NNP'), ('has', 'VBZ'), ('a', 'DT'), ('beautifull', 'NN'), ('Monumants', 'NNP'), ('.', '.')]\n"
          ]
        }
      ]
    },
    {
      "cell_type": "code",
      "source": [
        "# Name Entity Recognization"
      ],
      "metadata": {
        "id": "Av8vwYPkkcOW"
      },
      "execution_count": 53,
      "outputs": []
    },
    {
      "cell_type": "code",
      "source": [
        "sentence=\"\"\"The Eiffel Tower, an iconic Parisian landmark, was designed by Gustave Eiffel’s engineering company and constructed between 1887 and 1889 for the 1889 Exposition Universelle; today, it stands as a symbol of French innovation, attracting millions with its stunning iron lattice structure, panoramic city views, and enduring presence as a masterpiece of 19th-century architecture and engineering.\"\"\""
      ],
      "metadata": {
        "id": "wXIuACeLmyDh"
      },
      "execution_count": 54,
      "outputs": []
    },
    {
      "cell_type": "code",
      "source": [
        "sentence"
      ],
      "metadata": {
        "colab": {
          "base_uri": "https://localhost:8080/",
          "height": 104
        },
        "id": "hiKvd7bmnHDN",
        "outputId": "97754e1d-7ed7-4962-fa2c-e96478d49046"
      },
      "execution_count": 55,
      "outputs": [
        {
          "output_type": "execute_result",
          "data": {
            "text/plain": [
              "'The Eiffel Tower, an iconic Parisian landmark, was designed by Gustave Eiffel’s engineering company and constructed between 1887 and 1889 for the 1889 Exposition Universelle; today, it stands as a symbol of French innovation, attracting millions with its stunning iron lattice structure, panoramic city views, and enduring presence as a masterpiece of 19th-century architecture and engineering.'"
            ],
            "application/vnd.google.colaboratory.intrinsic+json": {
              "type": "string"
            }
          },
          "metadata": {},
          "execution_count": 55
        }
      ]
    },
    {
      "cell_type": "code",
      "source": [
        "import nltk"
      ],
      "metadata": {
        "id": "YxgbhIeynJRk"
      },
      "execution_count": 56,
      "outputs": []
    },
    {
      "cell_type": "code",
      "source": [
        "words=nltk.word_tokenize(sentence)"
      ],
      "metadata": {
        "id": "k9r6TuFqnMua"
      },
      "execution_count": 57,
      "outputs": []
    },
    {
      "cell_type": "code",
      "source": [
        "words"
      ],
      "metadata": {
        "colab": {
          "base_uri": "https://localhost:8080/"
        },
        "id": "PYn7__pgnRUl",
        "outputId": "ae80df3c-1845-4ed9-f121-3c63f8541dfb"
      },
      "execution_count": 58,
      "outputs": [
        {
          "output_type": "execute_result",
          "data": {
            "text/plain": [
              "['The',\n",
              " 'Eiffel',\n",
              " 'Tower',\n",
              " ',',\n",
              " 'an',\n",
              " 'iconic',\n",
              " 'Parisian',\n",
              " 'landmark',\n",
              " ',',\n",
              " 'was',\n",
              " 'designed',\n",
              " 'by',\n",
              " 'Gustave',\n",
              " 'Eiffel',\n",
              " '’',\n",
              " 's',\n",
              " 'engineering',\n",
              " 'company',\n",
              " 'and',\n",
              " 'constructed',\n",
              " 'between',\n",
              " '1887',\n",
              " 'and',\n",
              " '1889',\n",
              " 'for',\n",
              " 'the',\n",
              " '1889',\n",
              " 'Exposition',\n",
              " 'Universelle',\n",
              " ';',\n",
              " 'today',\n",
              " ',',\n",
              " 'it',\n",
              " 'stands',\n",
              " 'as',\n",
              " 'a',\n",
              " 'symbol',\n",
              " 'of',\n",
              " 'French',\n",
              " 'innovation',\n",
              " ',',\n",
              " 'attracting',\n",
              " 'millions',\n",
              " 'with',\n",
              " 'its',\n",
              " 'stunning',\n",
              " 'iron',\n",
              " 'lattice',\n",
              " 'structure',\n",
              " ',',\n",
              " 'panoramic',\n",
              " 'city',\n",
              " 'views',\n",
              " ',',\n",
              " 'and',\n",
              " 'enduring',\n",
              " 'presence',\n",
              " 'as',\n",
              " 'a',\n",
              " 'masterpiece',\n",
              " 'of',\n",
              " '19th-century',\n",
              " 'architecture',\n",
              " 'and',\n",
              " 'engineering',\n",
              " '.']"
            ]
          },
          "metadata": {},
          "execution_count": 58
        }
      ]
    },
    {
      "cell_type": "code",
      "source": [
        "taggs=nltk.pos_tag(words)"
      ],
      "metadata": {
        "id": "M4gYVHcynV8N"
      },
      "execution_count": 59,
      "outputs": []
    },
    {
      "cell_type": "code",
      "source": [
        "taggs"
      ],
      "metadata": {
        "colab": {
          "base_uri": "https://localhost:8080/"
        },
        "id": "9pszsj_rndY-",
        "outputId": "b69a5664-122a-4de3-ae7e-735ca0cf78d2"
      },
      "execution_count": 60,
      "outputs": [
        {
          "output_type": "execute_result",
          "data": {
            "text/plain": [
              "[('The', 'DT'),\n",
              " ('Eiffel', 'NNP'),\n",
              " ('Tower', 'NNP'),\n",
              " (',', ','),\n",
              " ('an', 'DT'),\n",
              " ('iconic', 'JJ'),\n",
              " ('Parisian', 'JJ'),\n",
              " ('landmark', 'NN'),\n",
              " (',', ','),\n",
              " ('was', 'VBD'),\n",
              " ('designed', 'VBN'),\n",
              " ('by', 'IN'),\n",
              " ('Gustave', 'NNP'),\n",
              " ('Eiffel', 'NNP'),\n",
              " ('’', 'NNP'),\n",
              " ('s', 'VBD'),\n",
              " ('engineering', 'NN'),\n",
              " ('company', 'NN'),\n",
              " ('and', 'CC'),\n",
              " ('constructed', 'VBD'),\n",
              " ('between', 'IN'),\n",
              " ('1887', 'CD'),\n",
              " ('and', 'CC'),\n",
              " ('1889', 'CD'),\n",
              " ('for', 'IN'),\n",
              " ('the', 'DT'),\n",
              " ('1889', 'CD'),\n",
              " ('Exposition', 'NNP'),\n",
              " ('Universelle', 'NNP'),\n",
              " (';', ':'),\n",
              " ('today', 'NN'),\n",
              " (',', ','),\n",
              " ('it', 'PRP'),\n",
              " ('stands', 'VBZ'),\n",
              " ('as', 'IN'),\n",
              " ('a', 'DT'),\n",
              " ('symbol', 'NN'),\n",
              " ('of', 'IN'),\n",
              " ('French', 'JJ'),\n",
              " ('innovation', 'NN'),\n",
              " (',', ','),\n",
              " ('attracting', 'VBG'),\n",
              " ('millions', 'NNS'),\n",
              " ('with', 'IN'),\n",
              " ('its', 'PRP$'),\n",
              " ('stunning', 'VBG'),\n",
              " ('iron', 'NN'),\n",
              " ('lattice', 'NN'),\n",
              " ('structure', 'NN'),\n",
              " (',', ','),\n",
              " ('panoramic', 'JJ'),\n",
              " ('city', 'NN'),\n",
              " ('views', 'NNS'),\n",
              " (',', ','),\n",
              " ('and', 'CC'),\n",
              " ('enduring', 'VBG'),\n",
              " ('presence', 'NN'),\n",
              " ('as', 'IN'),\n",
              " ('a', 'DT'),\n",
              " ('masterpiece', 'NN'),\n",
              " ('of', 'IN'),\n",
              " ('19th-century', 'JJ'),\n",
              " ('architecture', 'NN'),\n",
              " ('and', 'CC'),\n",
              " ('engineering', 'NN'),\n",
              " ('.', '.')]"
            ]
          },
          "metadata": {},
          "execution_count": 60
        }
      ]
    },
    {
      "cell_type": "code",
      "source": [
        "import nltk\n",
        "nltk.download('maxent_ne_chunker')\n",
        "nltk.download('maxent_ne_chunker_tab')"
      ],
      "metadata": {
        "colab": {
          "base_uri": "https://localhost:8080/"
        },
        "id": "avtxDKUknegv",
        "outputId": "487d0b2b-b705-4dfc-9043-48edb18d4bfb"
      },
      "execution_count": 61,
      "outputs": [
        {
          "output_type": "stream",
          "name": "stderr",
          "text": [
            "[nltk_data] Downloading package maxent_ne_chunker to\n",
            "[nltk_data]     /root/nltk_data...\n",
            "[nltk_data]   Package maxent_ne_chunker is already up-to-date!\n",
            "[nltk_data] Downloading package maxent_ne_chunker_tab to\n",
            "[nltk_data]     /root/nltk_data...\n",
            "[nltk_data]   Package maxent_ne_chunker_tab is already up-to-date!\n"
          ]
        },
        {
          "output_type": "execute_result",
          "data": {
            "text/plain": [
              "True"
            ]
          },
          "metadata": {},
          "execution_count": 61
        }
      ]
    },
    {
      "cell_type": "code",
      "source": [
        "nltk.download('words')"
      ],
      "metadata": {
        "colab": {
          "base_uri": "https://localhost:8080/"
        },
        "id": "o7RNDXTyoJyX",
        "outputId": "cf6eeb40-08c9-406f-c19d-5a495b5dd1aa"
      },
      "execution_count": 62,
      "outputs": [
        {
          "output_type": "stream",
          "name": "stderr",
          "text": [
            "[nltk_data] Downloading package words to /root/nltk_data...\n",
            "[nltk_data]   Package words is already up-to-date!\n"
          ]
        },
        {
          "output_type": "execute_result",
          "data": {
            "text/plain": [
              "True"
            ]
          },
          "metadata": {},
          "execution_count": 62
        }
      ]
    },
    {
      "cell_type": "code",
      "source": [],
      "metadata": {
        "id": "CRRNEZ68oNFr"
      },
      "execution_count": 62,
      "outputs": []
    },
    {
      "source": [
        "!apt-get install -y tk\n",
        "!pip install tk\n",
        "import os\n",
        "os.environ['DISPLAY'] = \":0\""
      ],
      "cell_type": "code",
      "metadata": {
        "colab": {
          "base_uri": "https://localhost:8080/"
        },
        "id": "PXbwKQrAogem",
        "outputId": "dae06e52-0064-47d7-ebf9-380f31dac308"
      },
      "execution_count": 63,
      "outputs": [
        {
          "output_type": "stream",
          "name": "stdout",
          "text": [
            "Reading package lists... Done\n",
            "Building dependency tree... Done\n",
            "Reading state information... Done\n",
            "tk is already the newest version (8.6.11+1build2).\n",
            "0 upgraded, 0 newly installed, 0 to remove and 34 not upgraded.\n",
            "Requirement already satisfied: tk in /usr/local/lib/python3.11/dist-packages (0.1.0)\n"
          ]
        }
      ]
    },
    {
      "cell_type": "code",
      "source": [
        "!pip install svgling\n",
        "import svgling\n",
        "import nltk\n",
        "\n",
        "tree = nltk.ne_chunk(taggs)\n",
        "\n",
        "svg = svgling.draw_tree(tree)\n",
        "\n",
        "display(svg)"
      ],
      "metadata": {
        "colab": {
          "base_uri": "https://localhost:8080/",
          "height": 244
        },
        "id": "dE7l7H4goPXc",
        "outputId": "a12c70c4-62b1-4f19-bdb3-78cb3207239d"
      },
      "execution_count": 64,
      "outputs": [
        {
          "output_type": "stream",
          "name": "stdout",
          "text": [
            "Requirement already satisfied: svgling in /usr/local/lib/python3.11/dist-packages (0.5.0)\n",
            "Requirement already satisfied: svgwrite in /usr/local/lib/python3.11/dist-packages (from svgling) (1.4.3)\n"
          ]
        },
        {
          "output_type": "display_data",
          "data": {
            "text/plain": [
              "TreeLayout(Tree('S', [('The', 'DT'), Tree('ORGANIZATION', [('Eiffel', 'NNP'), ('Tower', 'NNP')]), (',', ','), ('an', 'DT'), ('iconic', 'JJ'), Tree('GPE', [('Parisian', 'JJ')]), ('landmark', 'NN'), (',', ','), ('was', 'VBD'), ('designed', 'VBN'), ('by', 'IN'), Tree('PERSON', [('Gustave', 'NNP'), ('Eiffel', 'NNP')]), ('’', 'NNP'), ('s', 'VBD'), ('engineering', 'NN'), ('company', 'NN'), ('and', 'CC'), ('constructed', 'VBD'), ('between', 'IN'), ('1887', 'CD'), ('and', 'CC'), ('1889', 'CD'), ('for', 'IN'), ('the', 'DT'), ('1889', 'CD'), ('Exposition', 'NNP'), Tree('GPE', [('Universelle', 'NNP')]), (';', ':'), ('today', 'NN'), (',', ','), ('it', 'PRP'), ('stands', 'VBZ'), ('as', 'IN'), ('a', 'DT'), ('symbol', 'NN'), ('of', 'IN'), Tree('GPE', [('French', 'JJ')]), ('innovation', 'NN'), (',', ','), ('attracting', 'VBG'), ('millions', 'NNS'), ('with', 'IN'), ('its', 'PRP$'), ('stunning', 'VBG'), ('iron', 'NN'), ('lattice', 'NN'), ('structure', 'NN'), (',', ','), ('panoramic', 'JJ'), ('city', 'NN'), ('views', 'NNS'), (',', ','), ('and', 'CC'), ('enduring', 'VBG'), ('presence', 'NN'), ('as', 'IN'), ('a', 'DT'), ('masterpiece', 'NN'), ('of', 'IN'), ('19th-century', 'JJ'), ('architecture', 'NN'), ('and', 'CC'), ('engineering', 'NN'), ('.', '.')]))"
            ],
            "image/svg+xml": "<svg baseProfile=\"full\" height=\"168px\" preserveAspectRatio=\"xMidYMid meet\" style=\"font-family: times, serif; font-weight: normal; font-style: normal; font-size: 16px\" version=\"1.1\" viewBox=\"0,0,3832.0,168.0\" width=\"3832px\" xmlns=\"http://www.w3.org/2000/svg\" xmlns:ev=\"http://www.w3.org/2001/xml-events\" xmlns:xlink=\"http://www.w3.org/1999/xlink\"><defs /><svg width=\"100%\" x=\"0\" y=\"0px\"><defs /><text text-anchor=\"middle\" x=\"50%\" y=\"16px\">S</text></svg><svg width=\"1.04384%\" x=\"0%\" y=\"48px\"><defs /><svg width=\"100%\" x=\"0\" y=\"0px\"><defs /><text text-anchor=\"middle\" x=\"50%\" y=\"16px\">The</text></svg><svg width=\"100%\" x=\"0%\" y=\"48px\"><defs /><svg width=\"100%\" x=\"0\" y=\"0px\"><defs /><text text-anchor=\"middle\" x=\"50%\" y=\"16px\">DT</text></svg></svg><line stroke=\"black\" x1=\"50%\" x2=\"50%\" y1=\"20px\" y2=\"48px\" /></svg><line stroke=\"black\" x1=\"50%\" x2=\"0.521921%\" y1=\"20px\" y2=\"48px\" /><svg width=\"3.13152%\" x=\"1.04384%\" y=\"48px\"><defs /><svg width=\"100%\" x=\"0\" y=\"0px\"><defs /><text text-anchor=\"middle\" x=\"50%\" y=\"16px\">ORGANIZATION</text></svg><svg width=\"53.3333%\" x=\"0%\" y=\"48px\"><defs /><svg width=\"100%\" x=\"0\" y=\"0px\"><defs /><text text-anchor=\"middle\" x=\"50%\" y=\"16px\">Eiffel</text></svg><svg width=\"100%\" x=\"0%\" y=\"48px\"><defs /><svg width=\"100%\" x=\"0\" y=\"0px\"><defs /><text text-anchor=\"middle\" x=\"50%\" y=\"16px\">NNP</text></svg></svg><line stroke=\"black\" x1=\"50%\" x2=\"50%\" y1=\"20px\" y2=\"48px\" /></svg><line stroke=\"black\" x1=\"50%\" x2=\"26.6667%\" y1=\"20px\" y2=\"48px\" /><svg width=\"46.6667%\" x=\"53.3333%\" y=\"48px\"><defs /><svg width=\"100%\" x=\"0\" y=\"0px\"><defs /><text text-anchor=\"middle\" x=\"50%\" y=\"16px\">Tower</text></svg><svg width=\"100%\" x=\"0%\" y=\"48px\"><defs /><svg width=\"100%\" x=\"0\" y=\"0px\"><defs /><text text-anchor=\"middle\" x=\"50%\" y=\"16px\">NNP</text></svg></svg><line stroke=\"black\" x1=\"50%\" x2=\"50%\" y1=\"20px\" y2=\"48px\" /></svg><line stroke=\"black\" x1=\"50%\" x2=\"76.6667%\" y1=\"20px\" y2=\"48px\" /></svg><line stroke=\"black\" x1=\"50%\" x2=\"2.6096%\" y1=\"20px\" y2=\"48px\" /><svg width=\"0.626305%\" x=\"4.17537%\" y=\"48px\"><defs /><svg width=\"100%\" x=\"0\" y=\"0px\"><defs /><text text-anchor=\"middle\" x=\"50%\" y=\"16px\">,</text></svg><svg width=\"100%\" x=\"0%\" y=\"48px\"><defs /><svg width=\"100%\" x=\"0\" y=\"0px\"><defs /><text text-anchor=\"middle\" x=\"50%\" y=\"16px\">,</text></svg></svg><line stroke=\"black\" x1=\"50%\" x2=\"50%\" y1=\"20px\" y2=\"48px\" /></svg><line stroke=\"black\" x1=\"50%\" x2=\"4.48852%\" y1=\"20px\" y2=\"48px\" /><svg width=\"0.835073%\" x=\"4.80167%\" y=\"48px\"><defs /><svg width=\"100%\" x=\"0\" y=\"0px\"><defs /><text text-anchor=\"middle\" x=\"50%\" y=\"16px\">an</text></svg><svg width=\"100%\" x=\"0%\" y=\"48px\"><defs /><svg width=\"100%\" x=\"0\" y=\"0px\"><defs /><text text-anchor=\"middle\" x=\"50%\" y=\"16px\">DT</text></svg></svg><line stroke=\"black\" x1=\"50%\" x2=\"50%\" y1=\"20px\" y2=\"48px\" /></svg><line stroke=\"black\" x1=\"50%\" x2=\"5.21921%\" y1=\"20px\" y2=\"48px\" /><svg width=\"1.67015%\" x=\"5.63674%\" y=\"48px\"><defs /><svg width=\"100%\" x=\"0\" y=\"0px\"><defs /><text text-anchor=\"middle\" x=\"50%\" y=\"16px\">iconic</text></svg><svg width=\"100%\" x=\"0%\" y=\"48px\"><defs /><svg width=\"100%\" x=\"0\" y=\"0px\"><defs /><text text-anchor=\"middle\" x=\"50%\" y=\"16px\">JJ</text></svg></svg><line stroke=\"black\" x1=\"50%\" x2=\"50%\" y1=\"20px\" y2=\"48px\" /></svg><line stroke=\"black\" x1=\"50%\" x2=\"6.47182%\" y1=\"20px\" y2=\"48px\" /><svg width=\"2.08768%\" x=\"7.30689%\" y=\"48px\"><defs /><svg width=\"100%\" x=\"0\" y=\"0px\"><defs /><text text-anchor=\"middle\" x=\"50%\" y=\"16px\">GPE</text></svg><svg width=\"100%\" x=\"0%\" y=\"48px\"><defs /><svg width=\"100%\" x=\"0\" y=\"0px\"><defs /><text text-anchor=\"middle\" x=\"50%\" y=\"16px\">Parisian</text></svg><svg width=\"100%\" x=\"0%\" y=\"48px\"><defs /><svg width=\"100%\" x=\"0\" y=\"0px\"><defs /><text text-anchor=\"middle\" x=\"50%\" y=\"16px\">JJ</text></svg></svg><line stroke=\"black\" x1=\"50%\" x2=\"50%\" y1=\"20px\" y2=\"48px\" /></svg><line stroke=\"black\" x1=\"50%\" x2=\"50%\" y1=\"20px\" y2=\"48px\" /></svg><line stroke=\"black\" x1=\"50%\" x2=\"8.35073%\" y1=\"20px\" y2=\"48px\" /><svg width=\"2.08768%\" x=\"9.39457%\" y=\"48px\"><defs /><svg width=\"100%\" x=\"0\" y=\"0px\"><defs /><text text-anchor=\"middle\" x=\"50%\" y=\"16px\">landmark</text></svg><svg width=\"100%\" x=\"0%\" y=\"48px\"><defs /><svg width=\"100%\" x=\"0\" y=\"0px\"><defs /><text text-anchor=\"middle\" x=\"50%\" y=\"16px\">NN</text></svg></svg><line stroke=\"black\" x1=\"50%\" x2=\"50%\" y1=\"20px\" y2=\"48px\" /></svg><line stroke=\"black\" x1=\"50%\" x2=\"10.4384%\" y1=\"20px\" y2=\"48px\" /><svg width=\"0.626305%\" x=\"11.4823%\" y=\"48px\"><defs /><svg width=\"100%\" x=\"0\" y=\"0px\"><defs /><text text-anchor=\"middle\" x=\"50%\" y=\"16px\">,</text></svg><svg width=\"100%\" x=\"0%\" y=\"48px\"><defs /><svg width=\"100%\" x=\"0\" y=\"0px\"><defs /><text text-anchor=\"middle\" x=\"50%\" y=\"16px\">,</text></svg></svg><line stroke=\"black\" x1=\"50%\" x2=\"50%\" y1=\"20px\" y2=\"48px\" /></svg><line stroke=\"black\" x1=\"50%\" x2=\"11.7954%\" y1=\"20px\" y2=\"48px\" /><svg width=\"1.04384%\" x=\"12.1086%\" y=\"48px\"><defs /><svg width=\"100%\" x=\"0\" y=\"0px\"><defs /><text text-anchor=\"middle\" x=\"50%\" y=\"16px\">was</text></svg><svg width=\"100%\" x=\"0%\" y=\"48px\"><defs /><svg width=\"100%\" x=\"0\" y=\"0px\"><defs /><text text-anchor=\"middle\" x=\"50%\" y=\"16px\">VBD</text></svg></svg><line stroke=\"black\" x1=\"50%\" x2=\"50%\" y1=\"20px\" y2=\"48px\" /></svg><line stroke=\"black\" x1=\"50%\" x2=\"12.6305%\" y1=\"20px\" y2=\"48px\" /><svg width=\"2.08768%\" x=\"13.1524%\" y=\"48px\"><defs /><svg width=\"100%\" x=\"0\" y=\"0px\"><defs /><text text-anchor=\"middle\" x=\"50%\" y=\"16px\">designed</text></svg><svg width=\"100%\" x=\"0%\" y=\"48px\"><defs /><svg width=\"100%\" x=\"0\" y=\"0px\"><defs /><text text-anchor=\"middle\" x=\"50%\" y=\"16px\">VBN</text></svg></svg><line stroke=\"black\" x1=\"50%\" x2=\"50%\" y1=\"20px\" y2=\"48px\" /></svg><line stroke=\"black\" x1=\"50%\" x2=\"14.1962%\" y1=\"20px\" y2=\"48px\" /><svg width=\"0.835073%\" x=\"15.2401%\" y=\"48px\"><defs /><svg width=\"100%\" x=\"0\" y=\"0px\"><defs /><text text-anchor=\"middle\" x=\"50%\" y=\"16px\">by</text></svg><svg width=\"100%\" x=\"0%\" y=\"48px\"><defs /><svg width=\"100%\" x=\"0\" y=\"0px\"><defs /><text text-anchor=\"middle\" x=\"50%\" y=\"16px\">IN</text></svg></svg><line stroke=\"black\" x1=\"50%\" x2=\"50%\" y1=\"20px\" y2=\"48px\" /></svg><line stroke=\"black\" x1=\"50%\" x2=\"15.6576%\" y1=\"20px\" y2=\"48px\" /><svg width=\"3.54906%\" x=\"16.0752%\" y=\"48px\"><defs /><svg width=\"100%\" x=\"0\" y=\"0px\"><defs /><text text-anchor=\"middle\" x=\"50%\" y=\"16px\">PERSON</text></svg><svg width=\"52.9412%\" x=\"0%\" y=\"48px\"><defs /><svg width=\"100%\" x=\"0\" y=\"0px\"><defs /><text text-anchor=\"middle\" x=\"50%\" y=\"16px\">Gustave</text></svg><svg width=\"100%\" x=\"0%\" y=\"48px\"><defs /><svg width=\"100%\" x=\"0\" y=\"0px\"><defs /><text text-anchor=\"middle\" x=\"50%\" y=\"16px\">NNP</text></svg></svg><line stroke=\"black\" x1=\"50%\" x2=\"50%\" y1=\"20px\" y2=\"48px\" /></svg><line stroke=\"black\" x1=\"50%\" x2=\"26.4706%\" y1=\"20px\" y2=\"48px\" /><svg width=\"47.0588%\" x=\"52.9412%\" y=\"48px\"><defs /><svg width=\"100%\" x=\"0\" y=\"0px\"><defs /><text text-anchor=\"middle\" x=\"50%\" y=\"16px\">Eiffel</text></svg><svg width=\"100%\" x=\"0%\" y=\"48px\"><defs /><svg width=\"100%\" x=\"0\" y=\"0px\"><defs /><text text-anchor=\"middle\" x=\"50%\" y=\"16px\">NNP</text></svg></svg><line stroke=\"black\" x1=\"50%\" x2=\"50%\" y1=\"20px\" y2=\"48px\" /></svg><line stroke=\"black\" x1=\"50%\" x2=\"76.4706%\" y1=\"20px\" y2=\"48px\" /></svg><line stroke=\"black\" x1=\"50%\" x2=\"17.8497%\" y1=\"20px\" y2=\"48px\" /><svg width=\"1.04384%\" x=\"19.6242%\" y=\"48px\"><defs /><svg width=\"100%\" x=\"0\" y=\"0px\"><defs /><text text-anchor=\"middle\" x=\"50%\" y=\"16px\">’</text></svg><svg width=\"100%\" x=\"0%\" y=\"48px\"><defs /><svg width=\"100%\" x=\"0\" y=\"0px\"><defs /><text text-anchor=\"middle\" x=\"50%\" y=\"16px\">NNP</text></svg></svg><line stroke=\"black\" x1=\"50%\" x2=\"50%\" y1=\"20px\" y2=\"48px\" /></svg><line stroke=\"black\" x1=\"50%\" x2=\"20.1461%\" y1=\"20px\" y2=\"48px\" /><svg width=\"1.04384%\" x=\"20.6681%\" y=\"48px\"><defs /><svg width=\"100%\" x=\"0\" y=\"0px\"><defs /><text text-anchor=\"middle\" x=\"50%\" y=\"16px\">s</text></svg><svg width=\"100%\" x=\"0%\" y=\"48px\"><defs /><svg width=\"100%\" x=\"0\" y=\"0px\"><defs /><text text-anchor=\"middle\" x=\"50%\" y=\"16px\">VBD</text></svg></svg><line stroke=\"black\" x1=\"50%\" x2=\"50%\" y1=\"20px\" y2=\"48px\" /></svg><line stroke=\"black\" x1=\"50%\" x2=\"21.19%\" y1=\"20px\" y2=\"48px\" /><svg width=\"2.71399%\" x=\"21.7119%\" y=\"48px\"><defs /><svg width=\"100%\" x=\"0\" y=\"0px\"><defs /><text text-anchor=\"middle\" x=\"50%\" y=\"16px\">engineering</text></svg><svg width=\"100%\" x=\"0%\" y=\"48px\"><defs /><svg width=\"100%\" x=\"0\" y=\"0px\"><defs /><text text-anchor=\"middle\" x=\"50%\" y=\"16px\">NN</text></svg></svg><line stroke=\"black\" x1=\"50%\" x2=\"50%\" y1=\"20px\" y2=\"48px\" /></svg><line stroke=\"black\" x1=\"50%\" x2=\"23.0689%\" y1=\"20px\" y2=\"48px\" /><svg width=\"1.87891%\" x=\"24.4259%\" y=\"48px\"><defs /><svg width=\"100%\" x=\"0\" y=\"0px\"><defs /><text text-anchor=\"middle\" x=\"50%\" y=\"16px\">company</text></svg><svg width=\"100%\" x=\"0%\" y=\"48px\"><defs /><svg width=\"100%\" x=\"0\" y=\"0px\"><defs /><text text-anchor=\"middle\" x=\"50%\" y=\"16px\">NN</text></svg></svg><line stroke=\"black\" x1=\"50%\" x2=\"50%\" y1=\"20px\" y2=\"48px\" /></svg><line stroke=\"black\" x1=\"50%\" x2=\"25.3653%\" y1=\"20px\" y2=\"48px\" /><svg width=\"1.04384%\" x=\"26.3048%\" y=\"48px\"><defs /><svg width=\"100%\" x=\"0\" y=\"0px\"><defs /><text text-anchor=\"middle\" x=\"50%\" y=\"16px\">and</text></svg><svg width=\"100%\" x=\"0%\" y=\"48px\"><defs /><svg width=\"100%\" x=\"0\" y=\"0px\"><defs /><text text-anchor=\"middle\" x=\"50%\" y=\"16px\">CC</text></svg></svg><line stroke=\"black\" x1=\"50%\" x2=\"50%\" y1=\"20px\" y2=\"48px\" /></svg><line stroke=\"black\" x1=\"50%\" x2=\"26.8267%\" y1=\"20px\" y2=\"48px\" /><svg width=\"2.71399%\" x=\"27.3486%\" y=\"48px\"><defs /><svg width=\"100%\" x=\"0\" y=\"0px\"><defs /><text text-anchor=\"middle\" x=\"50%\" y=\"16px\">constructed</text></svg><svg width=\"100%\" x=\"0%\" y=\"48px\"><defs /><svg width=\"100%\" x=\"0\" y=\"0px\"><defs /><text text-anchor=\"middle\" x=\"50%\" y=\"16px\">VBD</text></svg></svg><line stroke=\"black\" x1=\"50%\" x2=\"50%\" y1=\"20px\" y2=\"48px\" /></svg><line stroke=\"black\" x1=\"50%\" x2=\"28.7056%\" y1=\"20px\" y2=\"48px\" /><svg width=\"1.87891%\" x=\"30.0626%\" y=\"48px\"><defs /><svg width=\"100%\" x=\"0\" y=\"0px\"><defs /><text text-anchor=\"middle\" x=\"50%\" y=\"16px\">between</text></svg><svg width=\"100%\" x=\"0%\" y=\"48px\"><defs /><svg width=\"100%\" x=\"0\" y=\"0px\"><defs /><text text-anchor=\"middle\" x=\"50%\" y=\"16px\">IN</text></svg></svg><line stroke=\"black\" x1=\"50%\" x2=\"50%\" y1=\"20px\" y2=\"48px\" /></svg><line stroke=\"black\" x1=\"50%\" x2=\"31.0021%\" y1=\"20px\" y2=\"48px\" /><svg width=\"1.25261%\" x=\"31.9415%\" y=\"48px\"><defs /><svg width=\"100%\" x=\"0\" y=\"0px\"><defs /><text text-anchor=\"middle\" x=\"50%\" y=\"16px\">1887</text></svg><svg width=\"100%\" x=\"0%\" y=\"48px\"><defs /><svg width=\"100%\" x=\"0\" y=\"0px\"><defs /><text text-anchor=\"middle\" x=\"50%\" y=\"16px\">CD</text></svg></svg><line stroke=\"black\" x1=\"50%\" x2=\"50%\" y1=\"20px\" y2=\"48px\" /></svg><line stroke=\"black\" x1=\"50%\" x2=\"32.5678%\" y1=\"20px\" y2=\"48px\" /><svg width=\"1.04384%\" x=\"33.1942%\" y=\"48px\"><defs /><svg width=\"100%\" x=\"0\" y=\"0px\"><defs /><text text-anchor=\"middle\" x=\"50%\" y=\"16px\">and</text></svg><svg width=\"100%\" x=\"0%\" y=\"48px\"><defs /><svg width=\"100%\" x=\"0\" y=\"0px\"><defs /><text text-anchor=\"middle\" x=\"50%\" y=\"16px\">CC</text></svg></svg><line stroke=\"black\" x1=\"50%\" x2=\"50%\" y1=\"20px\" y2=\"48px\" /></svg><line stroke=\"black\" x1=\"50%\" x2=\"33.7161%\" y1=\"20px\" y2=\"48px\" /><svg width=\"1.25261%\" x=\"34.238%\" y=\"48px\"><defs /><svg width=\"100%\" x=\"0\" y=\"0px\"><defs /><text text-anchor=\"middle\" x=\"50%\" y=\"16px\">1889</text></svg><svg width=\"100%\" x=\"0%\" y=\"48px\"><defs /><svg width=\"100%\" x=\"0\" y=\"0px\"><defs /><text text-anchor=\"middle\" x=\"50%\" y=\"16px\">CD</text></svg></svg><line stroke=\"black\" x1=\"50%\" x2=\"50%\" y1=\"20px\" y2=\"48px\" /></svg><line stroke=\"black\" x1=\"50%\" x2=\"34.8643%\" y1=\"20px\" y2=\"48px\" /><svg width=\"1.04384%\" x=\"35.4906%\" y=\"48px\"><defs /><svg width=\"100%\" x=\"0\" y=\"0px\"><defs /><text text-anchor=\"middle\" x=\"50%\" y=\"16px\">for</text></svg><svg width=\"100%\" x=\"0%\" y=\"48px\"><defs /><svg width=\"100%\" x=\"0\" y=\"0px\"><defs /><text text-anchor=\"middle\" x=\"50%\" y=\"16px\">IN</text></svg></svg><line stroke=\"black\" x1=\"50%\" x2=\"50%\" y1=\"20px\" y2=\"48px\" /></svg><line stroke=\"black\" x1=\"50%\" x2=\"36.0125%\" y1=\"20px\" y2=\"48px\" /><svg width=\"1.04384%\" x=\"36.5344%\" y=\"48px\"><defs /><svg width=\"100%\" x=\"0\" y=\"0px\"><defs /><text text-anchor=\"middle\" x=\"50%\" y=\"16px\">the</text></svg><svg width=\"100%\" x=\"0%\" y=\"48px\"><defs /><svg width=\"100%\" x=\"0\" y=\"0px\"><defs /><text text-anchor=\"middle\" x=\"50%\" y=\"16px\">DT</text></svg></svg><line stroke=\"black\" x1=\"50%\" x2=\"50%\" y1=\"20px\" y2=\"48px\" /></svg><line stroke=\"black\" x1=\"50%\" x2=\"37.0564%\" y1=\"20px\" y2=\"48px\" /><svg width=\"1.25261%\" x=\"37.5783%\" y=\"48px\"><defs /><svg width=\"100%\" x=\"0\" y=\"0px\"><defs /><text text-anchor=\"middle\" x=\"50%\" y=\"16px\">1889</text></svg><svg width=\"100%\" x=\"0%\" y=\"48px\"><defs /><svg width=\"100%\" x=\"0\" y=\"0px\"><defs /><text text-anchor=\"middle\" x=\"50%\" y=\"16px\">CD</text></svg></svg><line stroke=\"black\" x1=\"50%\" x2=\"50%\" y1=\"20px\" y2=\"48px\" /></svg><line stroke=\"black\" x1=\"50%\" x2=\"38.2046%\" y1=\"20px\" y2=\"48px\" /><svg width=\"2.50522%\" x=\"38.8309%\" y=\"48px\"><defs /><svg width=\"100%\" x=\"0\" y=\"0px\"><defs /><text text-anchor=\"middle\" x=\"50%\" y=\"16px\">Exposition</text></svg><svg width=\"100%\" x=\"0%\" y=\"48px\"><defs /><svg width=\"100%\" x=\"0\" y=\"0px\"><defs /><text text-anchor=\"middle\" x=\"50%\" y=\"16px\">NNP</text></svg></svg><line stroke=\"black\" x1=\"50%\" x2=\"50%\" y1=\"20px\" y2=\"48px\" /></svg><line stroke=\"black\" x1=\"50%\" x2=\"40.0835%\" y1=\"20px\" y2=\"48px\" /><svg width=\"2.71399%\" x=\"41.3361%\" y=\"48px\"><defs /><svg width=\"100%\" x=\"0\" y=\"0px\"><defs /><text text-anchor=\"middle\" x=\"50%\" y=\"16px\">GPE</text></svg><svg width=\"100%\" x=\"0%\" y=\"48px\"><defs /><svg width=\"100%\" x=\"0\" y=\"0px\"><defs /><text text-anchor=\"middle\" x=\"50%\" y=\"16px\">Universelle</text></svg><svg width=\"100%\" x=\"0%\" y=\"48px\"><defs /><svg width=\"100%\" x=\"0\" y=\"0px\"><defs /><text text-anchor=\"middle\" x=\"50%\" y=\"16px\">NNP</text></svg></svg><line stroke=\"black\" x1=\"50%\" x2=\"50%\" y1=\"20px\" y2=\"48px\" /></svg><line stroke=\"black\" x1=\"50%\" x2=\"50%\" y1=\"20px\" y2=\"48px\" /></svg><line stroke=\"black\" x1=\"50%\" x2=\"42.6931%\" y1=\"20px\" y2=\"48px\" /><svg width=\"0.626305%\" x=\"44.0501%\" y=\"48px\"><defs /><svg width=\"100%\" x=\"0\" y=\"0px\"><defs /><text text-anchor=\"middle\" x=\"50%\" y=\"16px\">;</text></svg><svg width=\"100%\" x=\"0%\" y=\"48px\"><defs /><svg width=\"100%\" x=\"0\" y=\"0px\"><defs /><text text-anchor=\"middle\" x=\"50%\" y=\"16px\">:</text></svg></svg><line stroke=\"black\" x1=\"50%\" x2=\"50%\" y1=\"20px\" y2=\"48px\" /></svg><line stroke=\"black\" x1=\"50%\" x2=\"44.3633%\" y1=\"20px\" y2=\"48px\" /><svg width=\"1.46138%\" x=\"44.6764%\" y=\"48px\"><defs /><svg width=\"100%\" x=\"0\" y=\"0px\"><defs /><text text-anchor=\"middle\" x=\"50%\" y=\"16px\">today</text></svg><svg width=\"100%\" x=\"0%\" y=\"48px\"><defs /><svg width=\"100%\" x=\"0\" y=\"0px\"><defs /><text text-anchor=\"middle\" x=\"50%\" y=\"16px\">NN</text></svg></svg><line stroke=\"black\" x1=\"50%\" x2=\"50%\" y1=\"20px\" y2=\"48px\" /></svg><line stroke=\"black\" x1=\"50%\" x2=\"45.4071%\" y1=\"20px\" y2=\"48px\" /><svg width=\"0.626305%\" x=\"46.1378%\" y=\"48px\"><defs /><svg width=\"100%\" x=\"0\" y=\"0px\"><defs /><text text-anchor=\"middle\" x=\"50%\" y=\"16px\">,</text></svg><svg width=\"100%\" x=\"0%\" y=\"48px\"><defs /><svg width=\"100%\" x=\"0\" y=\"0px\"><defs /><text text-anchor=\"middle\" x=\"50%\" y=\"16px\">,</text></svg></svg><line stroke=\"black\" x1=\"50%\" x2=\"50%\" y1=\"20px\" y2=\"48px\" /></svg><line stroke=\"black\" x1=\"50%\" x2=\"46.4509%\" y1=\"20px\" y2=\"48px\" /><svg width=\"1.04384%\" x=\"46.7641%\" y=\"48px\"><defs /><svg width=\"100%\" x=\"0\" y=\"0px\"><defs /><text text-anchor=\"middle\" x=\"50%\" y=\"16px\">it</text></svg><svg width=\"100%\" x=\"0%\" y=\"48px\"><defs /><svg width=\"100%\" x=\"0\" y=\"0px\"><defs /><text text-anchor=\"middle\" x=\"50%\" y=\"16px\">PRP</text></svg></svg><line stroke=\"black\" x1=\"50%\" x2=\"50%\" y1=\"20px\" y2=\"48px\" /></svg><line stroke=\"black\" x1=\"50%\" x2=\"47.286%\" y1=\"20px\" y2=\"48px\" /><svg width=\"1.67015%\" x=\"47.8079%\" y=\"48px\"><defs /><svg width=\"100%\" x=\"0\" y=\"0px\"><defs /><text text-anchor=\"middle\" x=\"50%\" y=\"16px\">stands</text></svg><svg width=\"100%\" x=\"0%\" y=\"48px\"><defs /><svg width=\"100%\" x=\"0\" y=\"0px\"><defs /><text text-anchor=\"middle\" x=\"50%\" y=\"16px\">VBZ</text></svg></svg><line stroke=\"black\" x1=\"50%\" x2=\"50%\" y1=\"20px\" y2=\"48px\" /></svg><line stroke=\"black\" x1=\"50%\" x2=\"48.643%\" y1=\"20px\" y2=\"48px\" /><svg width=\"0.835073%\" x=\"49.4781%\" y=\"48px\"><defs /><svg width=\"100%\" x=\"0\" y=\"0px\"><defs /><text text-anchor=\"middle\" x=\"50%\" y=\"16px\">as</text></svg><svg width=\"100%\" x=\"0%\" y=\"48px\"><defs /><svg width=\"100%\" x=\"0\" y=\"0px\"><defs /><text text-anchor=\"middle\" x=\"50%\" y=\"16px\">IN</text></svg></svg><line stroke=\"black\" x1=\"50%\" x2=\"50%\" y1=\"20px\" y2=\"48px\" /></svg><line stroke=\"black\" x1=\"50%\" x2=\"49.8956%\" y1=\"20px\" y2=\"48px\" /><svg width=\"0.835073%\" x=\"50.3132%\" y=\"48px\"><defs /><svg width=\"100%\" x=\"0\" y=\"0px\"><defs /><text text-anchor=\"middle\" x=\"50%\" y=\"16px\">a</text></svg><svg width=\"100%\" x=\"0%\" y=\"48px\"><defs /><svg width=\"100%\" x=\"0\" y=\"0px\"><defs /><text text-anchor=\"middle\" x=\"50%\" y=\"16px\">DT</text></svg></svg><line stroke=\"black\" x1=\"50%\" x2=\"50%\" y1=\"20px\" y2=\"48px\" /></svg><line stroke=\"black\" x1=\"50%\" x2=\"50.7307%\" y1=\"20px\" y2=\"48px\" /><svg width=\"1.67015%\" x=\"51.1482%\" y=\"48px\"><defs /><svg width=\"100%\" x=\"0\" y=\"0px\"><defs /><text text-anchor=\"middle\" x=\"50%\" y=\"16px\">symbol</text></svg><svg width=\"100%\" x=\"0%\" y=\"48px\"><defs /><svg width=\"100%\" x=\"0\" y=\"0px\"><defs /><text text-anchor=\"middle\" x=\"50%\" y=\"16px\">NN</text></svg></svg><line stroke=\"black\" x1=\"50%\" x2=\"50%\" y1=\"20px\" y2=\"48px\" /></svg><line stroke=\"black\" x1=\"50%\" x2=\"51.9833%\" y1=\"20px\" y2=\"48px\" /><svg width=\"0.835073%\" x=\"52.8184%\" y=\"48px\"><defs /><svg width=\"100%\" x=\"0\" y=\"0px\"><defs /><text text-anchor=\"middle\" x=\"50%\" y=\"16px\">of</text></svg><svg width=\"100%\" x=\"0%\" y=\"48px\"><defs /><svg width=\"100%\" x=\"0\" y=\"0px\"><defs /><text text-anchor=\"middle\" x=\"50%\" y=\"16px\">IN</text></svg></svg><line stroke=\"black\" x1=\"50%\" x2=\"50%\" y1=\"20px\" y2=\"48px\" /></svg><line stroke=\"black\" x1=\"50%\" x2=\"53.2359%\" y1=\"20px\" y2=\"48px\" /><svg width=\"1.67015%\" x=\"53.6534%\" y=\"48px\"><defs /><svg width=\"100%\" x=\"0\" y=\"0px\"><defs /><text text-anchor=\"middle\" x=\"50%\" y=\"16px\">GPE</text></svg><svg width=\"100%\" x=\"0%\" y=\"48px\"><defs /><svg width=\"100%\" x=\"0\" y=\"0px\"><defs /><text text-anchor=\"middle\" x=\"50%\" y=\"16px\">French</text></svg><svg width=\"100%\" x=\"0%\" y=\"48px\"><defs /><svg width=\"100%\" x=\"0\" y=\"0px\"><defs /><text text-anchor=\"middle\" x=\"50%\" y=\"16px\">JJ</text></svg></svg><line stroke=\"black\" x1=\"50%\" x2=\"50%\" y1=\"20px\" y2=\"48px\" /></svg><line stroke=\"black\" x1=\"50%\" x2=\"50%\" y1=\"20px\" y2=\"48px\" /></svg><line stroke=\"black\" x1=\"50%\" x2=\"54.4885%\" y1=\"20px\" y2=\"48px\" /><svg width=\"2.50522%\" x=\"55.3236%\" y=\"48px\"><defs /><svg width=\"100%\" x=\"0\" y=\"0px\"><defs /><text text-anchor=\"middle\" x=\"50%\" y=\"16px\">innovation</text></svg><svg width=\"100%\" x=\"0%\" y=\"48px\"><defs /><svg width=\"100%\" x=\"0\" y=\"0px\"><defs /><text text-anchor=\"middle\" x=\"50%\" y=\"16px\">NN</text></svg></svg><line stroke=\"black\" x1=\"50%\" x2=\"50%\" y1=\"20px\" y2=\"48px\" /></svg><line stroke=\"black\" x1=\"50%\" x2=\"56.5762%\" y1=\"20px\" y2=\"48px\" /><svg width=\"0.626305%\" x=\"57.8288%\" y=\"48px\"><defs /><svg width=\"100%\" x=\"0\" y=\"0px\"><defs /><text text-anchor=\"middle\" x=\"50%\" y=\"16px\">,</text></svg><svg width=\"100%\" x=\"0%\" y=\"48px\"><defs /><svg width=\"100%\" x=\"0\" y=\"0px\"><defs /><text text-anchor=\"middle\" x=\"50%\" y=\"16px\">,</text></svg></svg><line stroke=\"black\" x1=\"50%\" x2=\"50%\" y1=\"20px\" y2=\"48px\" /></svg><line stroke=\"black\" x1=\"50%\" x2=\"58.142%\" y1=\"20px\" y2=\"48px\" /><svg width=\"2.50522%\" x=\"58.4551%\" y=\"48px\"><defs /><svg width=\"100%\" x=\"0\" y=\"0px\"><defs /><text text-anchor=\"middle\" x=\"50%\" y=\"16px\">attracting</text></svg><svg width=\"100%\" x=\"0%\" y=\"48px\"><defs /><svg width=\"100%\" x=\"0\" y=\"0px\"><defs /><text text-anchor=\"middle\" x=\"50%\" y=\"16px\">VBG</text></svg></svg><line stroke=\"black\" x1=\"50%\" x2=\"50%\" y1=\"20px\" y2=\"48px\" /></svg><line stroke=\"black\" x1=\"50%\" x2=\"59.7077%\" y1=\"20px\" y2=\"48px\" /><svg width=\"2.08768%\" x=\"60.9603%\" y=\"48px\"><defs /><svg width=\"100%\" x=\"0\" y=\"0px\"><defs /><text text-anchor=\"middle\" x=\"50%\" y=\"16px\">millions</text></svg><svg width=\"100%\" x=\"0%\" y=\"48px\"><defs /><svg width=\"100%\" x=\"0\" y=\"0px\"><defs /><text text-anchor=\"middle\" x=\"50%\" y=\"16px\">NNS</text></svg></svg><line stroke=\"black\" x1=\"50%\" x2=\"50%\" y1=\"20px\" y2=\"48px\" /></svg><line stroke=\"black\" x1=\"50%\" x2=\"62.0042%\" y1=\"20px\" y2=\"48px\" /><svg width=\"1.25261%\" x=\"63.048%\" y=\"48px\"><defs /><svg width=\"100%\" x=\"0\" y=\"0px\"><defs /><text text-anchor=\"middle\" x=\"50%\" y=\"16px\">with</text></svg><svg width=\"100%\" x=\"0%\" y=\"48px\"><defs /><svg width=\"100%\" x=\"0\" y=\"0px\"><defs /><text text-anchor=\"middle\" x=\"50%\" y=\"16px\">IN</text></svg></svg><line stroke=\"black\" x1=\"50%\" x2=\"50%\" y1=\"20px\" y2=\"48px\" /></svg><line stroke=\"black\" x1=\"50%\" x2=\"63.6743%\" y1=\"20px\" y2=\"48px\" /><svg width=\"1.25261%\" x=\"64.3006%\" y=\"48px\"><defs /><svg width=\"100%\" x=\"0\" y=\"0px\"><defs /><text text-anchor=\"middle\" x=\"50%\" y=\"16px\">its</text></svg><svg width=\"100%\" x=\"0%\" y=\"48px\"><defs /><svg width=\"100%\" x=\"0\" y=\"0px\"><defs /><text text-anchor=\"middle\" x=\"50%\" y=\"16px\">PRP$</text></svg></svg><line stroke=\"black\" x1=\"50%\" x2=\"50%\" y1=\"20px\" y2=\"48px\" /></svg><line stroke=\"black\" x1=\"50%\" x2=\"64.9269%\" y1=\"20px\" y2=\"48px\" /><svg width=\"2.08768%\" x=\"65.5532%\" y=\"48px\"><defs /><svg width=\"100%\" x=\"0\" y=\"0px\"><defs /><text text-anchor=\"middle\" x=\"50%\" y=\"16px\">stunning</text></svg><svg width=\"100%\" x=\"0%\" y=\"48px\"><defs /><svg width=\"100%\" x=\"0\" y=\"0px\"><defs /><text text-anchor=\"middle\" x=\"50%\" y=\"16px\">VBG</text></svg></svg><line stroke=\"black\" x1=\"50%\" x2=\"50%\" y1=\"20px\" y2=\"48px\" /></svg><line stroke=\"black\" x1=\"50%\" x2=\"66.5971%\" y1=\"20px\" y2=\"48px\" /><svg width=\"1.25261%\" x=\"67.6409%\" y=\"48px\"><defs /><svg width=\"100%\" x=\"0\" y=\"0px\"><defs /><text text-anchor=\"middle\" x=\"50%\" y=\"16px\">iron</text></svg><svg width=\"100%\" x=\"0%\" y=\"48px\"><defs /><svg width=\"100%\" x=\"0\" y=\"0px\"><defs /><text text-anchor=\"middle\" x=\"50%\" y=\"16px\">NN</text></svg></svg><line stroke=\"black\" x1=\"50%\" x2=\"50%\" y1=\"20px\" y2=\"48px\" /></svg><line stroke=\"black\" x1=\"50%\" x2=\"68.2672%\" y1=\"20px\" y2=\"48px\" /><svg width=\"1.87891%\" x=\"68.8935%\" y=\"48px\"><defs /><svg width=\"100%\" x=\"0\" y=\"0px\"><defs /><text text-anchor=\"middle\" x=\"50%\" y=\"16px\">lattice</text></svg><svg width=\"100%\" x=\"0%\" y=\"48px\"><defs /><svg width=\"100%\" x=\"0\" y=\"0px\"><defs /><text text-anchor=\"middle\" x=\"50%\" y=\"16px\">NN</text></svg></svg><line stroke=\"black\" x1=\"50%\" x2=\"50%\" y1=\"20px\" y2=\"48px\" /></svg><line stroke=\"black\" x1=\"50%\" x2=\"69.833%\" y1=\"20px\" y2=\"48px\" /><svg width=\"2.29645%\" x=\"70.7724%\" y=\"48px\"><defs /><svg width=\"100%\" x=\"0\" y=\"0px\"><defs /><text text-anchor=\"middle\" x=\"50%\" y=\"16px\">structure</text></svg><svg width=\"100%\" x=\"0%\" y=\"48px\"><defs /><svg width=\"100%\" x=\"0\" y=\"0px\"><defs /><text text-anchor=\"middle\" x=\"50%\" y=\"16px\">NN</text></svg></svg><line stroke=\"black\" x1=\"50%\" x2=\"50%\" y1=\"20px\" y2=\"48px\" /></svg><line stroke=\"black\" x1=\"50%\" x2=\"71.9207%\" y1=\"20px\" y2=\"48px\" /><svg width=\"0.626305%\" x=\"73.0689%\" y=\"48px\"><defs /><svg width=\"100%\" x=\"0\" y=\"0px\"><defs /><text text-anchor=\"middle\" x=\"50%\" y=\"16px\">,</text></svg><svg width=\"100%\" x=\"0%\" y=\"48px\"><defs /><svg width=\"100%\" x=\"0\" y=\"0px\"><defs /><text text-anchor=\"middle\" x=\"50%\" y=\"16px\">,</text></svg></svg><line stroke=\"black\" x1=\"50%\" x2=\"50%\" y1=\"20px\" y2=\"48px\" /></svg><line stroke=\"black\" x1=\"50%\" x2=\"73.382%\" y1=\"20px\" y2=\"48px\" /><svg width=\"2.29645%\" x=\"73.6952%\" y=\"48px\"><defs /><svg width=\"100%\" x=\"0\" y=\"0px\"><defs /><text text-anchor=\"middle\" x=\"50%\" y=\"16px\">panoramic</text></svg><svg width=\"100%\" x=\"0%\" y=\"48px\"><defs /><svg width=\"100%\" x=\"0\" y=\"0px\"><defs /><text text-anchor=\"middle\" x=\"50%\" y=\"16px\">JJ</text></svg></svg><line stroke=\"black\" x1=\"50%\" x2=\"50%\" y1=\"20px\" y2=\"48px\" /></svg><line stroke=\"black\" x1=\"50%\" x2=\"74.8434%\" y1=\"20px\" y2=\"48px\" /><svg width=\"1.25261%\" x=\"75.9916%\" y=\"48px\"><defs /><svg width=\"100%\" x=\"0\" y=\"0px\"><defs /><text text-anchor=\"middle\" x=\"50%\" y=\"16px\">city</text></svg><svg width=\"100%\" x=\"0%\" y=\"48px\"><defs /><svg width=\"100%\" x=\"0\" y=\"0px\"><defs /><text text-anchor=\"middle\" x=\"50%\" y=\"16px\">NN</text></svg></svg><line stroke=\"black\" x1=\"50%\" x2=\"50%\" y1=\"20px\" y2=\"48px\" /></svg><line stroke=\"black\" x1=\"50%\" x2=\"76.618%\" y1=\"20px\" y2=\"48px\" /><svg width=\"1.46138%\" x=\"77.2443%\" y=\"48px\"><defs /><svg width=\"100%\" x=\"0\" y=\"0px\"><defs /><text text-anchor=\"middle\" x=\"50%\" y=\"16px\">views</text></svg><svg width=\"100%\" x=\"0%\" y=\"48px\"><defs /><svg width=\"100%\" x=\"0\" y=\"0px\"><defs /><text text-anchor=\"middle\" x=\"50%\" y=\"16px\">NNS</text></svg></svg><line stroke=\"black\" x1=\"50%\" x2=\"50%\" y1=\"20px\" y2=\"48px\" /></svg><line stroke=\"black\" x1=\"50%\" x2=\"77.9749%\" y1=\"20px\" y2=\"48px\" /><svg width=\"0.626305%\" x=\"78.7056%\" y=\"48px\"><defs /><svg width=\"100%\" x=\"0\" y=\"0px\"><defs /><text text-anchor=\"middle\" x=\"50%\" y=\"16px\">,</text></svg><svg width=\"100%\" x=\"0%\" y=\"48px\"><defs /><svg width=\"100%\" x=\"0\" y=\"0px\"><defs /><text text-anchor=\"middle\" x=\"50%\" y=\"16px\">,</text></svg></svg><line stroke=\"black\" x1=\"50%\" x2=\"50%\" y1=\"20px\" y2=\"48px\" /></svg><line stroke=\"black\" x1=\"50%\" x2=\"79.0188%\" y1=\"20px\" y2=\"48px\" /><svg width=\"1.04384%\" x=\"79.3319%\" y=\"48px\"><defs /><svg width=\"100%\" x=\"0\" y=\"0px\"><defs /><text text-anchor=\"middle\" x=\"50%\" y=\"16px\">and</text></svg><svg width=\"100%\" x=\"0%\" y=\"48px\"><defs /><svg width=\"100%\" x=\"0\" y=\"0px\"><defs /><text text-anchor=\"middle\" x=\"50%\" y=\"16px\">CC</text></svg></svg><line stroke=\"black\" x1=\"50%\" x2=\"50%\" y1=\"20px\" y2=\"48px\" /></svg><line stroke=\"black\" x1=\"50%\" x2=\"79.8539%\" y1=\"20px\" y2=\"48px\" /><svg width=\"2.08768%\" x=\"80.3758%\" y=\"48px\"><defs /><svg width=\"100%\" x=\"0\" y=\"0px\"><defs /><text text-anchor=\"middle\" x=\"50%\" y=\"16px\">enduring</text></svg><svg width=\"100%\" x=\"0%\" y=\"48px\"><defs /><svg width=\"100%\" x=\"0\" y=\"0px\"><defs /><text text-anchor=\"middle\" x=\"50%\" y=\"16px\">VBG</text></svg></svg><line stroke=\"black\" x1=\"50%\" x2=\"50%\" y1=\"20px\" y2=\"48px\" /></svg><line stroke=\"black\" x1=\"50%\" x2=\"81.4196%\" y1=\"20px\" y2=\"48px\" /><svg width=\"2.08768%\" x=\"82.4635%\" y=\"48px\"><defs /><svg width=\"100%\" x=\"0\" y=\"0px\"><defs /><text text-anchor=\"middle\" x=\"50%\" y=\"16px\">presence</text></svg><svg width=\"100%\" x=\"0%\" y=\"48px\"><defs /><svg width=\"100%\" x=\"0\" y=\"0px\"><defs /><text text-anchor=\"middle\" x=\"50%\" y=\"16px\">NN</text></svg></svg><line stroke=\"black\" x1=\"50%\" x2=\"50%\" y1=\"20px\" y2=\"48px\" /></svg><line stroke=\"black\" x1=\"50%\" x2=\"83.5073%\" y1=\"20px\" y2=\"48px\" /><svg width=\"0.835073%\" x=\"84.5511%\" y=\"48px\"><defs /><svg width=\"100%\" x=\"0\" y=\"0px\"><defs /><text text-anchor=\"middle\" x=\"50%\" y=\"16px\">as</text></svg><svg width=\"100%\" x=\"0%\" y=\"48px\"><defs /><svg width=\"100%\" x=\"0\" y=\"0px\"><defs /><text text-anchor=\"middle\" x=\"50%\" y=\"16px\">IN</text></svg></svg><line stroke=\"black\" x1=\"50%\" x2=\"50%\" y1=\"20px\" y2=\"48px\" /></svg><line stroke=\"black\" x1=\"50%\" x2=\"84.9687%\" y1=\"20px\" y2=\"48px\" /><svg width=\"0.835073%\" x=\"85.3862%\" y=\"48px\"><defs /><svg width=\"100%\" x=\"0\" y=\"0px\"><defs /><text text-anchor=\"middle\" x=\"50%\" y=\"16px\">a</text></svg><svg width=\"100%\" x=\"0%\" y=\"48px\"><defs /><svg width=\"100%\" x=\"0\" y=\"0px\"><defs /><text text-anchor=\"middle\" x=\"50%\" y=\"16px\">DT</text></svg></svg><line stroke=\"black\" x1=\"50%\" x2=\"50%\" y1=\"20px\" y2=\"48px\" /></svg><line stroke=\"black\" x1=\"50%\" x2=\"85.8038%\" y1=\"20px\" y2=\"48px\" /><svg width=\"2.71399%\" x=\"86.2213%\" y=\"48px\"><defs /><svg width=\"100%\" x=\"0\" y=\"0px\"><defs /><text text-anchor=\"middle\" x=\"50%\" y=\"16px\">masterpiece</text></svg><svg width=\"100%\" x=\"0%\" y=\"48px\"><defs /><svg width=\"100%\" x=\"0\" y=\"0px\"><defs /><text text-anchor=\"middle\" x=\"50%\" y=\"16px\">NN</text></svg></svg><line stroke=\"black\" x1=\"50%\" x2=\"50%\" y1=\"20px\" y2=\"48px\" /></svg><line stroke=\"black\" x1=\"50%\" x2=\"87.5783%\" y1=\"20px\" y2=\"48px\" /><svg width=\"0.835073%\" x=\"88.9353%\" y=\"48px\"><defs /><svg width=\"100%\" x=\"0\" y=\"0px\"><defs /><text text-anchor=\"middle\" x=\"50%\" y=\"16px\">of</text></svg><svg width=\"100%\" x=\"0%\" y=\"48px\"><defs /><svg width=\"100%\" x=\"0\" y=\"0px\"><defs /><text text-anchor=\"middle\" x=\"50%\" y=\"16px\">IN</text></svg></svg><line stroke=\"black\" x1=\"50%\" x2=\"50%\" y1=\"20px\" y2=\"48px\" /></svg><line stroke=\"black\" x1=\"50%\" x2=\"89.3528%\" y1=\"20px\" y2=\"48px\" /><svg width=\"2.92276%\" x=\"89.7704%\" y=\"48px\"><defs /><svg width=\"100%\" x=\"0\" y=\"0px\"><defs /><text text-anchor=\"middle\" x=\"50%\" y=\"16px\">19th-century</text></svg><svg width=\"100%\" x=\"0%\" y=\"48px\"><defs /><svg width=\"100%\" x=\"0\" y=\"0px\"><defs /><text text-anchor=\"middle\" x=\"50%\" y=\"16px\">JJ</text></svg></svg><line stroke=\"black\" x1=\"50%\" x2=\"50%\" y1=\"20px\" y2=\"48px\" /></svg><line stroke=\"black\" x1=\"50%\" x2=\"91.2317%\" y1=\"20px\" y2=\"48px\" /><svg width=\"2.92276%\" x=\"92.6931%\" y=\"48px\"><defs /><svg width=\"100%\" x=\"0\" y=\"0px\"><defs /><text text-anchor=\"middle\" x=\"50%\" y=\"16px\">architecture</text></svg><svg width=\"100%\" x=\"0%\" y=\"48px\"><defs /><svg width=\"100%\" x=\"0\" y=\"0px\"><defs /><text text-anchor=\"middle\" x=\"50%\" y=\"16px\">NN</text></svg></svg><line stroke=\"black\" x1=\"50%\" x2=\"50%\" y1=\"20px\" y2=\"48px\" /></svg><line stroke=\"black\" x1=\"50%\" x2=\"94.1545%\" y1=\"20px\" y2=\"48px\" /><svg width=\"1.04384%\" x=\"95.6159%\" y=\"48px\"><defs /><svg width=\"100%\" x=\"0\" y=\"0px\"><defs /><text text-anchor=\"middle\" x=\"50%\" y=\"16px\">and</text></svg><svg width=\"100%\" x=\"0%\" y=\"48px\"><defs /><svg width=\"100%\" x=\"0\" y=\"0px\"><defs /><text text-anchor=\"middle\" x=\"50%\" y=\"16px\">CC</text></svg></svg><line stroke=\"black\" x1=\"50%\" x2=\"50%\" y1=\"20px\" y2=\"48px\" /></svg><line stroke=\"black\" x1=\"50%\" x2=\"96.1378%\" y1=\"20px\" y2=\"48px\" /><svg width=\"2.71399%\" x=\"96.6597%\" y=\"48px\"><defs /><svg width=\"100%\" x=\"0\" y=\"0px\"><defs /><text text-anchor=\"middle\" x=\"50%\" y=\"16px\">engineering</text></svg><svg width=\"100%\" x=\"0%\" y=\"48px\"><defs /><svg width=\"100%\" x=\"0\" y=\"0px\"><defs /><text text-anchor=\"middle\" x=\"50%\" y=\"16px\">NN</text></svg></svg><line stroke=\"black\" x1=\"50%\" x2=\"50%\" y1=\"20px\" y2=\"48px\" /></svg><line stroke=\"black\" x1=\"50%\" x2=\"98.0167%\" y1=\"20px\" y2=\"48px\" /><svg width=\"0.626305%\" x=\"99.3737%\" y=\"48px\"><defs /><svg width=\"100%\" x=\"0\" y=\"0px\"><defs /><text text-anchor=\"middle\" x=\"50%\" y=\"16px\">.</text></svg><svg width=\"100%\" x=\"0%\" y=\"48px\"><defs /><svg width=\"100%\" x=\"0\" y=\"0px\"><defs /><text text-anchor=\"middle\" x=\"50%\" y=\"16px\">.</text></svg></svg><line stroke=\"black\" x1=\"50%\" x2=\"50%\" y1=\"20px\" y2=\"48px\" /></svg><line stroke=\"black\" x1=\"50%\" x2=\"99.6868%\" y1=\"20px\" y2=\"48px\" /></svg>"
          },
          "metadata": {}
        }
      ]
    }
  ]
}